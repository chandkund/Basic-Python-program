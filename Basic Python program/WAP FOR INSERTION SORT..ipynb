{
 "cells": [
  {
   "cell_type": "code",
   "execution_count": null,
   "id": "00bedeeb-2245-48c2-9aef-8639a03dd92d",
   "metadata": {},
   "outputs": [],
   "source": []
  },
  {
   "cell_type": "code",
   "execution_count": null,
   "id": "2c8ea503-3303-4eaa-89ae-3d097492bcf7",
   "metadata": {},
   "outputs": [],
   "source": [
    "def insertionSort(arr):\n",
    "\tn = len(arr) \n",
    "\t\n",
    "\tif n <= 1:\n",
    "\t\treturn \n",
    "        \n",
    "\tfor i in range(1, n): \n",
    "\t\tkey = arr[i] \n",
    "\t\tj = i-1\n",
    "\t\twhile j >= 0 and key < arr[j]: \n",
    "\t\t\tarr[j+1] = arr[j] \n",
    "\t\t\tj -= 1\n",
    "\t\tarr[j+1] = key \n",
    "\n",
    "arr = [12, 11, 13, 5, 6]\n",
    "insertionSort(arr)\n",
    "print(arr)\n"
   ]
  },
  {
   "cell_type": "code",
   "execution_count": null,
   "id": "2fb6c9ef-b8e9-4421-9410-6f72ee16c767",
   "metadata": {},
   "outputs": [],
   "source": []
  },
  {
   "cell_type": "code",
   "execution_count": null,
   "id": "02ca2b4c-3c1a-4551-b934-0fb84ba4c1ce",
   "metadata": {},
   "outputs": [],
   "source": []
  },
  {
   "cell_type": "code",
   "execution_count": null,
   "id": "850a082f-4621-47e8-bb2f-8416164c4209",
   "metadata": {},
   "outputs": [],
   "source": []
  },
  {
   "cell_type": "code",
   "execution_count": null,
   "id": "77075349-ea00-4018-8908-22c9a7e9d07f",
   "metadata": {},
   "outputs": [],
   "source": []
  },
  {
   "cell_type": "code",
   "execution_count": null,
   "id": "4e1f138a-dc25-4d68-8710-8f7e3c96d6b5",
   "metadata": {},
   "outputs": [],
   "source": []
  },
  {
   "cell_type": "code",
   "execution_count": null,
   "id": "dc23c133-e4cb-4fe1-bfe6-2397dd86b4ef",
   "metadata": {},
   "outputs": [],
   "source": []
  },
  {
   "cell_type": "code",
   "execution_count": null,
   "id": "609b0fdc-8d2f-4929-88ea-734786cb60c5",
   "metadata": {},
   "outputs": [],
   "source": []
  },
  {
   "cell_type": "code",
   "execution_count": null,
   "id": "35b1ac18-cc49-45d3-8105-66bc40849dd1",
   "metadata": {},
   "outputs": [],
   "source": []
  }
 ],
 "metadata": {
  "kernelspec": {
   "display_name": "Python 3 (ipykernel)",
   "language": "python",
   "name": "python3"
  },
  "language_info": {
   "codemirror_mode": {
    "name": "ipython",
    "version": 3
   },
   "file_extension": ".py",
   "mimetype": "text/x-python",
   "name": "python",
   "nbconvert_exporter": "python",
   "pygments_lexer": "ipython3",
   "version": "3.12.4"
  }
 },
 "nbformat": 4,
 "nbformat_minor": 5
}
