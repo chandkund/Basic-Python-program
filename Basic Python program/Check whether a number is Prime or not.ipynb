{
 "cells": [
  {
   "cell_type": "markdown",
   "id": "17e005c6-dcdd-47f1-88c8-b017a4c47035",
   "metadata": {},
   "source": [
    "## Check whether a number is Prime or not"
   ]
  },
  {
   "cell_type": "code",
   "execution_count": 37,
   "id": "6083e209-dfa2-434d-bbdc-777dd2af359c",
   "metadata": {},
   "outputs": [
    {
     "name": "stdout",
     "output_type": "stream",
     "text": [
      "Number is not prime\n",
      "None\n"
     ]
    }
   ],
   "source": [
    "def prime_or_not(n):\n",
    "    if n>1:\n",
    "        f = 0\n",
    "        for i in range(2,n):\n",
    "            if n%i == 0: \n",
    "                print(\"Number is not prime\" )\n",
    "                f= 1\n",
    "                break;         \n",
    "        else:\n",
    "            print(\"number is prime\")           \n",
    "print(prime_or_not(91))                          "
   ]
  },
  {
   "cell_type": "code",
   "execution_count": 35,
   "id": "3df365a5-ebe3-4528-8793-54c69c7887e7",
   "metadata": {},
   "outputs": [
    {
     "name": "stdin",
     "output_type": "stream",
     "text": [
      "Enter number 6\n"
     ]
    },
    {
     "name": "stdout",
     "output_type": "stream",
     "text": [
      "False\n"
     ]
    }
   ],
   "source": [
    "from math import sqrt\n",
    "n = int(input(\"Enter number\"))\n",
    "\n",
    "g = 0\n",
    "\n",
    "if(n > 1):\n",
    "    for i in range(2, int(sqrt(n)) + 1):\n",
    "        if (n % i == 0):\n",
    "            g = 1\n",
    "            break\n",
    "    if (g == 0):\n",
    "        print(\"True\")\n",
    "    else:\n",
    "        print(\"False\")\n",
    "else:\n",
    "    print(\"False\")"
   ]
  },
  {
   "cell_type": "code",
   "execution_count": null,
   "id": "e63b06ce-30b8-43c3-9a3d-49476e108157",
   "metadata": {},
   "outputs": [],
   "source": []
  },
  {
   "cell_type": "code",
   "execution_count": null,
   "id": "1d44392c-c294-4a81-8f01-ffaea60470a3",
   "metadata": {},
   "outputs": [],
   "source": []
  },
  {
   "cell_type": "code",
   "execution_count": null,
   "id": "132cbf5b-442b-4ad4-bfc3-6e0bea2536c6",
   "metadata": {},
   "outputs": [],
   "source": []
  },
  {
   "cell_type": "code",
   "execution_count": null,
   "id": "6ac514f7-e330-4a40-af3d-e279d98c4785",
   "metadata": {},
   "outputs": [],
   "source": []
  },
  {
   "cell_type": "code",
   "execution_count": null,
   "id": "f9029b09-ae7d-4ac7-a84f-4f3a56ce6313",
   "metadata": {},
   "outputs": [],
   "source": []
  },
  {
   "cell_type": "code",
   "execution_count": null,
   "id": "2e6d00cb-b152-4db5-ad5d-9742d1f4944e",
   "metadata": {},
   "outputs": [],
   "source": []
  },
  {
   "cell_type": "code",
   "execution_count": null,
   "id": "bcab6afe-3500-4968-ae92-bff85e6b4dbb",
   "metadata": {},
   "outputs": [],
   "source": []
  },
  {
   "cell_type": "code",
   "execution_count": null,
   "id": "2f1b465a-448f-46a8-9f9a-52794e96d6eb",
   "metadata": {},
   "outputs": [],
   "source": []
  },
  {
   "cell_type": "code",
   "execution_count": null,
   "id": "8fbf495f-1beb-41b7-a314-987245858ee6",
   "metadata": {},
   "outputs": [],
   "source": []
  },
  {
   "cell_type": "code",
   "execution_count": null,
   "id": "4ac2750b-e1e8-4458-a5a5-536fb9f7c6a8",
   "metadata": {},
   "outputs": [],
   "source": []
  },
  {
   "cell_type": "code",
   "execution_count": null,
   "id": "23e2c8fe-2335-43d7-b914-67b9b2b309ec",
   "metadata": {},
   "outputs": [],
   "source": []
  },
  {
   "cell_type": "code",
   "execution_count": null,
   "id": "d18824b3-cdee-45b6-b573-b897908b3101",
   "metadata": {},
   "outputs": [],
   "source": []
  },
  {
   "cell_type": "code",
   "execution_count": null,
   "id": "6e318f3d-61b9-411b-a579-b605b2f4ced6",
   "metadata": {},
   "outputs": [],
   "source": []
  },
  {
   "cell_type": "code",
   "execution_count": null,
   "id": "711eb9e5-2e1e-4de0-94ca-fb57a937c141",
   "metadata": {},
   "outputs": [],
   "source": []
  },
  {
   "cell_type": "code",
   "execution_count": null,
   "id": "89fd8941-be2b-4db0-abe3-a033e00f0ced",
   "metadata": {},
   "outputs": [],
   "source": []
  },
  {
   "cell_type": "code",
   "execution_count": null,
   "id": "14899e51-0d7b-4155-8357-a0d118d32035",
   "metadata": {},
   "outputs": [],
   "source": []
  },
  {
   "cell_type": "code",
   "execution_count": null,
   "id": "0012b7bf-83ce-4e58-86c9-1d13ec1ec054",
   "metadata": {},
   "outputs": [],
   "source": []
  },
  {
   "cell_type": "code",
   "execution_count": null,
   "id": "afea2575-1e04-4194-aab1-16d208b24349",
   "metadata": {},
   "outputs": [],
   "source": []
  },
  {
   "cell_type": "code",
   "execution_count": null,
   "id": "b104da57-7f68-4b1f-b9d5-d4311a2c452f",
   "metadata": {},
   "outputs": [],
   "source": []
  },
  {
   "cell_type": "code",
   "execution_count": null,
   "id": "d03823c1-2f04-4735-9d99-60eb152d737b",
   "metadata": {},
   "outputs": [],
   "source": []
  },
  {
   "cell_type": "code",
   "execution_count": null,
   "id": "cc70ea6c-baa1-4fb1-a847-f4c89e88fa6a",
   "metadata": {},
   "outputs": [],
   "source": []
  },
  {
   "cell_type": "code",
   "execution_count": null,
   "id": "d86ed75b-f38a-4a06-a6e6-40a785cd2f91",
   "metadata": {},
   "outputs": [],
   "source": []
  },
  {
   "cell_type": "code",
   "execution_count": null,
   "id": "112980ba-c45b-4e20-ad38-4dfcae385b46",
   "metadata": {},
   "outputs": [],
   "source": []
  },
  {
   "cell_type": "code",
   "execution_count": null,
   "id": "2e626658-ba50-4100-b81b-8bc110d1edce",
   "metadata": {},
   "outputs": [],
   "source": []
  },
  {
   "cell_type": "code",
   "execution_count": null,
   "id": "acd8b7be-c735-4da7-af10-5be26884187d",
   "metadata": {},
   "outputs": [],
   "source": []
  },
  {
   "cell_type": "code",
   "execution_count": null,
   "id": "6a368f73-57f1-45d2-9a24-670e1a40fa46",
   "metadata": {},
   "outputs": [],
   "source": []
  },
  {
   "cell_type": "code",
   "execution_count": null,
   "id": "398b338c-3dce-4cdd-b726-152920097dac",
   "metadata": {},
   "outputs": [],
   "source": []
  },
  {
   "cell_type": "code",
   "execution_count": null,
   "id": "9d75d49d-b371-479f-a71f-fbb0e8efdcb3",
   "metadata": {},
   "outputs": [],
   "source": []
  },
  {
   "cell_type": "code",
   "execution_count": null,
   "id": "af47ab24-19d6-4f01-8015-ead9c1502cb5",
   "metadata": {},
   "outputs": [],
   "source": []
  }
 ],
 "metadata": {
  "kernelspec": {
   "display_name": "Python 3 (ipykernel)",
   "language": "python",
   "name": "python3"
  },
  "language_info": {
   "codemirror_mode": {
    "name": "ipython",
    "version": 3
   },
   "file_extension": ".py",
   "mimetype": "text/x-python",
   "name": "python",
   "nbconvert_exporter": "python",
   "pygments_lexer": "ipython3",
   "version": "3.12.4"
  }
 },
 "nbformat": 4,
 "nbformat_minor": 5
}
