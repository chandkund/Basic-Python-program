{
 "cells": [
  {
   "cell_type": "markdown",
   "id": "047590a7-26a0-49b0-a0bd-5c25674d0139",
   "metadata": {},
   "source": [
    "## Find compound interest"
   ]
  },
  {
   "cell_type": "markdown",
   "id": "38db5299-39d5-4829-a224-3ff3c3954999",
   "metadata": {},
   "source": [
    "### Using simple operator"
   ]
  },
  {
   "cell_type": "markdown",
   "id": "26ff0fed-fdd8-402b-bd08-bba124a2ba74",
   "metadata": {},
   "source": [
    "#### formula of compound interest :A=  p(1+r/100)^t    \n",
    "#### compound_interest = A-P"
   ]
  },
  {
   "cell_type": "code",
   "execution_count": 3,
   "id": "cacc3494-1bfc-4acb-8c72-a87666c8458c",
   "metadata": {},
   "outputs": [
    {
     "name": "stdin",
     "output_type": "stream",
     "text": [
      "Enter the principle amount 2341\n",
      "Enter the rate percentage 12\n",
      "Enter the time in years 2\n"
     ]
    },
    {
     "name": "stdout",
     "output_type": "stream",
     "text": [
      "Compound_interset : 595.5504000000005\n"
     ]
    }
   ],
   "source": [
    "p = int(input(\"Enter the principle amount\"))\n",
    "r = int(input(\"Enter the rate percentage\"))\n",
    "t  = int(input(\"Enter the time in years\"))\n",
    "\n",
    "amount = p*(1+r/100)**t\n",
    "compound_interset = amount - p\n",
    "print(\"Compound_interset :\",compound_interset)\n",
    "        "
   ]
  },
  {
   "cell_type": "markdown",
   "id": "c91bb8b8-e605-485d-ba85-362a318ff477",
   "metadata": {},
   "source": [
    "### Using function "
   ]
  },
  {
   "cell_type": "code",
   "execution_count": 9,
   "id": "9c0cdbed-c369-4f7e-ac89-d271518d133e",
   "metadata": {},
   "outputs": [
    {
     "name": "stdin",
     "output_type": "stream",
     "text": [
      "Enter the principle amount 2341\n",
      "Enter the rate percentage 12\n",
      "Enter the time in years 2\n"
     ]
    },
    {
     "name": "stdout",
     "output_type": "stream",
     "text": [
      "Compound_interset : 595.5504000000005\n"
     ]
    }
   ],
   "source": [
    "def compound_interest1(p,r,t):\n",
    "    amount = p*(1+r/100)**t\n",
    "    \n",
    "    return amount - p\n",
    "    \n",
    "p = int(input(\"Enter the principle amount\"))\n",
    "r = int(input(\"Enter the rate percentage\"))\n",
    "t  = int(input(\"Enter the time in years\"))\n",
    "\n",
    "print(\"Compound_interset :\",compound_interest1(p,r,t))\n"
   ]
  },
  {
   "cell_type": "markdown",
   "id": "f1c523e0-7105-43c4-9493-3497e331b1cf",
   "metadata": {},
   "source": [
    "### Using pow "
   ]
  },
  {
   "cell_type": "code",
   "execution_count": 11,
   "id": "73ea115c-5cdb-4b94-9d77-1cf84ac6b223",
   "metadata": {},
   "outputs": [
    {
     "name": "stdin",
     "output_type": "stream",
     "text": [
      "Enter the principle amount 2341\n",
      "Enter the rate percentage 12\n",
      "Enter the time in years 2\n"
     ]
    },
    {
     "name": "stdout",
     "output_type": "stream",
     "text": [
      "Compound_interset : 595.5504000000005\n"
     ]
    }
   ],
   "source": [
    "p = int(input(\"Enter the principle amount\"))\n",
    "r = int(input(\"Enter the rate percentage\"))\n",
    "t  = int(input(\"Enter the time in years\"))\n",
    "\n",
    "amount = p*pow((1+r/100),t)\n",
    "compound_interset = amount - p\n",
    "print(\"Compound_interset :\",compound_interset)"
   ]
  },
  {
   "cell_type": "markdown",
   "id": "0841ce0d-2b93-43f2-bec3-6ec73daf43ae",
   "metadata": {},
   "source": [
    "### using for loop "
   ]
  },
  {
   "cell_type": "code",
   "execution_count": 14,
   "id": "c4575edb-fb2b-4279-b7b2-5884378ce59d",
   "metadata": {},
   "outputs": [
    {
     "name": "stdin",
     "output_type": "stream",
     "text": [
      "Enter the principle amount 575987645\n",
      "Enter the rate percentage 12\n",
      "Enter the time in years 2\n"
     ]
    },
    {
     "name": "stdout",
     "output_type": "stream",
     "text": [
      "Compound_interset : 146531256.88800013\n"
     ]
    }
   ],
   "source": [
    "a = int(input(\"Enter the principle amount\"))\n",
    "r = int(input(\"Enter the rate percentage\"))\n",
    "t  = int(input(\"Enter the time in years\"))\n",
    "p = a\n",
    "for i in (1,t+1):\n",
    "    a = a*(1+r/100)\n",
    "    \n",
    "print(\"Compound_interset :\",a-p)    "
   ]
  },
  {
   "cell_type": "markdown",
   "id": "3651978c-22d8-45ff-80fc-6983cd83ef6c",
   "metadata": {},
   "source": [
    "### using lambda "
   ]
  },
  {
   "cell_type": "code",
   "execution_count": 19,
   "id": "0504804b-f4f1-4f0f-8b4a-e24265c9fe6b",
   "metadata": {},
   "outputs": [
    {
     "name": "stdin",
     "output_type": "stream",
     "text": [
      "Enter the principle amount 2341\n",
      "Enter the rate percentage 12\n",
      "Enter the time in years 2\n"
     ]
    },
    {
     "name": "stdout",
     "output_type": "stream",
     "text": [
      "Compound_interset : 595.5504000000005\n"
     ]
    }
   ],
   "source": [
    "\n",
    "a = int(input(\"Enter the principle amount\"))\n",
    "r = int(input(\"Enter the rate percentage\"))\n",
    "t  = int(input(\"Enter the time in years\"))\n",
    "\n",
    "amount = lambda a,r,t : a*(1 + r / 100) ** t\n",
    "print(\"Compound_interset :\",amount(a,r,t)-a)    "
   ]
  },
  {
   "cell_type": "code",
   "execution_count": null,
   "id": "0733edfd-803d-42e3-86e3-40a48b9b9a24",
   "metadata": {},
   "outputs": [],
   "source": []
  },
  {
   "cell_type": "code",
   "execution_count": null,
   "id": "6426ee34-b648-49bf-a760-e6e699d84ca2",
   "metadata": {},
   "outputs": [],
   "source": []
  },
  {
   "cell_type": "code",
   "execution_count": null,
   "id": "58ff5cfc-520c-48a9-aa63-f285678e0335",
   "metadata": {},
   "outputs": [],
   "source": []
  },
  {
   "cell_type": "code",
   "execution_count": null,
   "id": "0202876f-6a9f-46c4-8a67-94816a0c6e98",
   "metadata": {},
   "outputs": [],
   "source": []
  },
  {
   "cell_type": "code",
   "execution_count": null,
   "id": "cb54bbf9-c687-4732-bb4d-61aba96fdab8",
   "metadata": {},
   "outputs": [],
   "source": []
  },
  {
   "cell_type": "code",
   "execution_count": null,
   "id": "bad41da0-ff8d-4a00-a504-ebeae4133dd5",
   "metadata": {},
   "outputs": [],
   "source": []
  },
  {
   "cell_type": "code",
   "execution_count": null,
   "id": "e98079ae-f4f0-4960-ba22-4654ec8e7bed",
   "metadata": {},
   "outputs": [],
   "source": []
  }
 ],
 "metadata": {
  "kernelspec": {
   "display_name": "Python 3 (ipykernel)",
   "language": "python",
   "name": "python3"
  },
  "language_info": {
   "codemirror_mode": {
    "name": "ipython",
    "version": 3
   },
   "file_extension": ".py",
   "mimetype": "text/x-python",
   "name": "python",
   "nbconvert_exporter": "python",
   "pygments_lexer": "ipython3",
   "version": "3.12.4"
  }
 },
 "nbformat": 4,
 "nbformat_minor": 5
}
