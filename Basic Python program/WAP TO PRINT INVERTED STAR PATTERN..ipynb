{
 "cells": [
  {
   "cell_type": "code",
   "execution_count": 1,
   "id": "498913ec-7dca-48b4-b075-567aa8a75952",
   "metadata": {},
   "outputs": [
    {
     "name": "stdout",
     "output_type": "stream",
     "text": [
      "***********\n",
      " **********\n",
      "  *********\n",
      "   ********\n",
      "    *******\n",
      "     ******\n",
      "      *****\n",
      "       ****\n",
      "        ***\n",
      "         **\n",
      "          *\n"
     ]
    }
   ],
   "source": [
    "\n",
    "n=11\n",
    "\n",
    "for i in range (n, 0, -1):\n",
    "\tprint((n-i) * ' ' + i * '*')\n"
   ]
  },
  {
   "cell_type": "code",
   "execution_count": null,
   "id": "9ff72fa8-495c-4d40-af2c-62847e8145cf",
   "metadata": {},
   "outputs": [],
   "source": []
  },
  {
   "cell_type": "code",
   "execution_count": 5,
   "id": "a527e49f-52ca-427e-ba15-7a5ff9dfb1d9",
   "metadata": {},
   "outputs": [
    {
     "name": "stdout",
     "output_type": "stream",
     "text": [
      "*****\n",
      "****\n",
      "***\n",
      "**\n",
      "*\n"
     ]
    }
   ],
   "source": [
    "def recursive(h):\n",
    "\tif h > 0:\n",
    "\t\tprint(\"*\" * h)\n",
    "\t\trecursive(h - 1)\n",
    "\n",
    "h = 5\n",
    "recursive(height)\n"
   ]
  },
  {
   "cell_type": "code",
   "execution_count": null,
   "id": "c07eea11-e327-4cda-acbf-b490e736727d",
   "metadata": {},
   "outputs": [],
   "source": []
  }
 ],
 "metadata": {
  "kernelspec": {
   "display_name": "Python 3 (ipykernel)",
   "language": "python",
   "name": "python3"
  },
  "language_info": {
   "codemirror_mode": {
    "name": "ipython",
    "version": 3
   },
   "file_extension": ".py",
   "mimetype": "text/x-python",
   "name": "python",
   "nbconvert_exporter": "python",
   "pygments_lexer": "ipython3",
   "version": "3.12.4"
  }
 },
 "nbformat": 4,
 "nbformat_minor": 5
}
