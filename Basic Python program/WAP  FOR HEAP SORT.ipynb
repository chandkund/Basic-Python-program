{
 "cells": [
  {
   "cell_type": "code",
   "execution_count": null,
   "id": "a12cc06f-402b-4695-a208-ab68ce2983d3",
   "metadata": {},
   "outputs": [],
   "source": []
  },
  {
   "cell_type": "code",
   "execution_count": null,
   "id": "09c84363-704f-46e2-81b4-cb8a24550222",
   "metadata": {},
   "outputs": [],
   "source": [
    "\n",
    "def heapify(arr, n, i):\n",
    "\tlargest = i \n",
    "\tl = 2 * i + 1 \n",
    "\tr = 2 * i + 2 \n",
    "\n",
    "\n",
    "\tif l < n and arr[i] < arr[l]:\n",
    "\t\tlargest = l\n",
    "\n",
    "\n",
    "\n",
    "\tif r < n and arr[largest] < arr[r]:\n",
    "\t\tlargest = r\n",
    "\n",
    "\n",
    "\tif largest != i:\n",
    "\t\t(arr[i], arr[largest]) = (arr[largest], arr[i]) # swap\n",
    "\n",
    "\n",
    "\t\theapify(arr, n, largest)\n",
    "\n",
    "\n",
    "\n",
    "def heapSort(arr):\n",
    "\tn = len(arr)\n",
    "\n",
    "\n",
    "\tfor i in range(n // 2, -1, -1):\n",
    "\t\theapify(arr, n, i)\n",
    "\n",
    "\n",
    "\tfor i in range(n - 1, 0, -1):\n",
    "\t\t(arr[i], arr[0]) = (arr[0], arr[i]) # swap\n",
    "\t\theapify(arr, i, 0)\n",
    "\n",
    "\n",
    "\n",
    "arr = [12, 11, 13, 5, 6, 7, ]\n",
    "heapSort(arr)\n",
    "n = len(arr)\n",
    "print('Sorted array is')\n",
    "for i in range(n):\n",
    "\tprint(arr[i])\n",
    "\n"
   ]
  }
 ],
 "metadata": {
  "kernelspec": {
   "display_name": "Python 3 (ipykernel)",
   "language": "python",
   "name": "python3"
  },
  "language_info": {
   "codemirror_mode": {
    "name": "ipython",
    "version": 3
   },
   "file_extension": ".py",
   "mimetype": "text/x-python",
   "name": "python",
   "nbconvert_exporter": "python",
   "pygments_lexer": "ipython3",
   "version": "3.12.4"
  }
 },
 "nbformat": 4,
 "nbformat_minor": 5
}
