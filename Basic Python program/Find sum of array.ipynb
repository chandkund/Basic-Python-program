{
 "cells": [
  {
   "cell_type": "markdown",
   "id": "1bf69d4f-87d3-4ed2-abcb-3bcbb028fcce",
   "metadata": {},
   "source": [
    "## Find sum of array"
   ]
  },
  {
   "cell_type": "markdown",
   "id": "8f710c12-b50a-46a7-8ffd-a39631ecbc5d",
   "metadata": {},
   "source": [
    "### Using sum function"
   ]
  },
  {
   "cell_type": "code",
   "execution_count": 1,
   "id": "4eda6dc5-cd46-4b25-b37c-d80361129cf9",
   "metadata": {},
   "outputs": [
    {
     "name": "stdout",
     "output_type": "stream",
     "text": [
      "282\n"
     ]
    }
   ],
   "source": [
    "arr = [12,34,56,78,90,12]\n",
    "print(sum(arr))"
   ]
  },
  {
   "cell_type": "markdown",
   "id": "db3cf8b5-252b-458d-8a59-fc6d0108e8da",
   "metadata": {},
   "source": [
    "### Using for loop "
   ]
  },
  {
   "cell_type": "code",
   "execution_count": 2,
   "id": "336cbfe2-a4b1-4ed3-89de-5ad219b0d51f",
   "metadata": {},
   "outputs": [
    {
     "name": "stdout",
     "output_type": "stream",
     "text": [
      "282\n"
     ]
    }
   ],
   "source": [
    "arr = [12,34,56,78,90,12]\n",
    "sum = 0\n",
    "for i in arr:\n",
    "    sum = sum+i\n",
    "print(sum)\n",
    "    "
   ]
  },
  {
   "cell_type": "markdown",
   "id": "ae6ec07f-470e-40c1-8094-54c56fdf2e78",
   "metadata": {},
   "source": [
    "### Using enumerate function"
   ]
  },
  {
   "cell_type": "code",
   "execution_count": 6,
   "id": "a445c46c-4ff9-464c-a43b-999b3b113096",
   "metadata": {},
   "outputs": [
    {
     "name": "stdout",
     "output_type": "stream",
     "text": [
      "282\n"
     ]
    }
   ],
   "source": [
    "arr = [12,34,56,78,90,12]\n",
    "sum = 0\n",
    "for i,a in enumerate(arr):\n",
    "    sum = sum+a\n",
    "print(sum)\n",
    "    "
   ]
  },
  {
   "cell_type": "markdown",
   "id": "d98277f0-cf30-4480-847e-a87db453d794",
   "metadata": {},
   "source": [
    "### Using Index "
   ]
  },
  {
   "cell_type": "code",
   "execution_count": 9,
   "id": "287365d0-0ab1-4185-8449-b2da3a6424b6",
   "metadata": {},
   "outputs": [
    {
     "name": "stdout",
     "output_type": "stream",
     "text": [
      "282\n"
     ]
    }
   ],
   "source": [
    "arr = [12,34,56,78,90,12]\n",
    "sum = 0\n",
    "for i in range(0,len(arr)):\n",
    "    sum = sum+arr[i]\n",
    "print(sum)"
   ]
  },
  {
   "cell_type": "code",
   "execution_count": null,
   "id": "2756f3c4-68cf-4e50-8163-7f33514b50bf",
   "metadata": {},
   "outputs": [],
   "source": []
  },
  {
   "cell_type": "code",
   "execution_count": null,
   "id": "c99ae90e-8439-47ab-ab85-b7027f2e7739",
   "metadata": {},
   "outputs": [],
   "source": []
  },
  {
   "cell_type": "code",
   "execution_count": null,
   "id": "a53cbab9-8f93-4056-81b1-040d816fb67f",
   "metadata": {},
   "outputs": [],
   "source": []
  },
  {
   "cell_type": "code",
   "execution_count": null,
   "id": "4a9e8873-788d-44d1-85d2-f7e85a41595e",
   "metadata": {},
   "outputs": [],
   "source": []
  },
  {
   "cell_type": "code",
   "execution_count": null,
   "id": "cbcd4e7f-9397-4b75-9614-575fe6cfca34",
   "metadata": {},
   "outputs": [],
   "source": []
  },
  {
   "cell_type": "code",
   "execution_count": null,
   "id": "5d63fa0a-bdd6-42ec-9558-3fea65f1de64",
   "metadata": {},
   "outputs": [],
   "source": []
  },
  {
   "cell_type": "code",
   "execution_count": null,
   "id": "4fbf575a-a0ea-4624-b729-5228bf0c0163",
   "metadata": {},
   "outputs": [],
   "source": []
  },
  {
   "cell_type": "code",
   "execution_count": null,
   "id": "2b4f2b9f-c24a-4747-849d-c1570a5a3731",
   "metadata": {},
   "outputs": [],
   "source": []
  },
  {
   "cell_type": "code",
   "execution_count": null,
   "id": "8ecc30ba-bd2a-400e-8458-262318c2e938",
   "metadata": {},
   "outputs": [],
   "source": []
  },
  {
   "cell_type": "code",
   "execution_count": null,
   "id": "e243580d-12fd-4de7-8a2a-33c392f770e3",
   "metadata": {},
   "outputs": [],
   "source": []
  },
  {
   "cell_type": "code",
   "execution_count": null,
   "id": "86e3f595-f6f7-4261-8d10-7d861f672411",
   "metadata": {},
   "outputs": [],
   "source": []
  },
  {
   "cell_type": "code",
   "execution_count": null,
   "id": "4f801578-1cf9-424d-90c1-c62b95447f7c",
   "metadata": {},
   "outputs": [],
   "source": []
  },
  {
   "cell_type": "code",
   "execution_count": null,
   "id": "33a44528-2fe5-4973-adf7-810689865a08",
   "metadata": {},
   "outputs": [],
   "source": []
  },
  {
   "cell_type": "code",
   "execution_count": null,
   "id": "a08773a0-1fcc-477f-af96-2eb025907c94",
   "metadata": {},
   "outputs": [],
   "source": []
  },
  {
   "cell_type": "code",
   "execution_count": null,
   "id": "e38d7056-f656-4179-944c-33b1a46f37b8",
   "metadata": {},
   "outputs": [],
   "source": []
  },
  {
   "cell_type": "code",
   "execution_count": null,
   "id": "e7413b86-68e1-418c-9619-44129e30b56c",
   "metadata": {},
   "outputs": [],
   "source": []
  },
  {
   "cell_type": "code",
   "execution_count": null,
   "id": "04e48623-a8c2-4ab7-92f2-f848b50062a5",
   "metadata": {},
   "outputs": [],
   "source": []
  },
  {
   "cell_type": "code",
   "execution_count": null,
   "id": "5d7c4b7d-a329-49c0-905b-a3513f418bc5",
   "metadata": {},
   "outputs": [],
   "source": []
  },
  {
   "cell_type": "code",
   "execution_count": null,
   "id": "0e44602d-0f26-46ca-b703-62081bb1c9ff",
   "metadata": {},
   "outputs": [],
   "source": []
  },
  {
   "cell_type": "code",
   "execution_count": null,
   "id": "d92d4d9c-c0d9-4498-bcfd-f24d78e74685",
   "metadata": {},
   "outputs": [],
   "source": []
  },
  {
   "cell_type": "code",
   "execution_count": null,
   "id": "82aa6d5e-82c3-4fc5-abf3-83bea937c591",
   "metadata": {},
   "outputs": [],
   "source": []
  },
  {
   "cell_type": "code",
   "execution_count": null,
   "id": "eb1c7ef7-47f6-49b9-92d9-d8ca75080293",
   "metadata": {},
   "outputs": [],
   "source": []
  },
  {
   "cell_type": "code",
   "execution_count": null,
   "id": "1781b2c7-3241-4930-a31d-1745c8244e47",
   "metadata": {},
   "outputs": [],
   "source": []
  },
  {
   "cell_type": "code",
   "execution_count": null,
   "id": "ecdacda4-1c72-4f1c-9b3f-8d9058db07c7",
   "metadata": {},
   "outputs": [],
   "source": []
  },
  {
   "cell_type": "code",
   "execution_count": null,
   "id": "2d9d50ca-af31-4a7a-853b-f3de9fb48720",
   "metadata": {},
   "outputs": [],
   "source": []
  },
  {
   "cell_type": "code",
   "execution_count": null,
   "id": "0ebe4943-1739-4b74-9ddf-b634273d5183",
   "metadata": {},
   "outputs": [],
   "source": []
  },
  {
   "cell_type": "code",
   "execution_count": null,
   "id": "84a6d790-6463-4ed4-8e64-5dd2739c9472",
   "metadata": {},
   "outputs": [],
   "source": []
  }
 ],
 "metadata": {
  "kernelspec": {
   "display_name": "Python 3 (ipykernel)",
   "language": "python",
   "name": "python3"
  },
  "language_info": {
   "codemirror_mode": {
    "name": "ipython",
    "version": 3
   },
   "file_extension": ".py",
   "mimetype": "text/x-python",
   "name": "python",
   "nbconvert_exporter": "python",
   "pygments_lexer": "ipython3",
   "version": "3.12.4"
  }
 },
 "nbformat": 4,
 "nbformat_minor": 5
}
