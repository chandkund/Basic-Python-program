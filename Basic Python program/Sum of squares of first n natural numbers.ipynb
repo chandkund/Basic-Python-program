{
 "cells": [
  {
   "cell_type": "markdown",
   "id": "5929a653-85a6-49f4-9f24-428025c438af",
   "metadata": {},
   "source": [
    "## Sum of squares of first n natural numbers"
   ]
  },
  {
   "cell_type": "markdown",
   "id": "dc19463e-bc3f-497a-8f57-706d6cad24e4",
   "metadata": {},
   "source": [
    "### Using for loop "
   ]
  },
  {
   "cell_type": "code",
   "execution_count": 3,
   "id": "a7c0cccb-c1ed-46f5-85f5-b9dcb70f5b78",
   "metadata": {},
   "outputs": [
    {
     "name": "stdin",
     "output_type": "stream",
     "text": [
      "Enter the number 4\n"
     ]
    },
    {
     "name": "stdout",
     "output_type": "stream",
     "text": [
      "30\n"
     ]
    }
   ],
   "source": [
    "n = int(input(\"Enter the number\"))\n",
    "sum = 0\n",
    "for i in range(1,n+1):\n",
    "    sum  = sum+i*i\n",
    "print(sum)\n",
    "    "
   ]
  },
  {
   "cell_type": "markdown",
   "id": "541082b3-7073-4b03-97d0-6fedc759d3b2",
   "metadata": {},
   "source": [
    "### Using pow() function"
   ]
  },
  {
   "cell_type": "code",
   "execution_count": 14,
   "id": "84430e78-a089-4145-8e7e-3cbacd885b5d",
   "metadata": {},
   "outputs": [
    {
     "name": "stdin",
     "output_type": "stream",
     "text": [
      "Enter the number 7\n"
     ]
    },
    {
     "name": "stdout",
     "output_type": "stream",
     "text": [
      "140\n"
     ]
    }
   ],
   "source": [
    "\n",
    "n = int(input(\"Enter the number\"))\n",
    "\n",
    "def sum_of_first_natural_number(n):\n",
    "    s = 0\n",
    "    for i in range(1,n+1):\n",
    "        s = s+pow(int(i),2)\n",
    "    return s\n",
    "        \n",
    "print(sum_of_first_natural_number(n))        \n",
    "    "
   ]
  },
  {
   "cell_type": "markdown",
   "id": "9425fe33-c201-4289-a988-f1489f6761ad",
   "metadata": {},
   "source": [
    "### Using list"
   ]
  },
  {
   "cell_type": "code",
   "execution_count": 30,
   "id": "40e0f7bf-1d5c-4db1-9c09-bbee7e35a85a",
   "metadata": {},
   "outputs": [
    {
     "name": "stdin",
     "output_type": "stream",
     "text": [
      "Enter the number 8\n"
     ]
    },
    {
     "name": "stdout",
     "output_type": "stream",
     "text": [
      "204\n"
     ]
    }
   ],
   "source": [
    "n = int(input(\"Enter the number\"))\n",
    "\n",
    "l = [i*i for i in range(1,n+1)]\n",
    "\n",
    "sum = 0\n",
    "for i in range(len(l)):\n",
    "    sum = sum+l[i]\n",
    "print(sum)"
   ]
  },
  {
   "cell_type": "markdown",
   "id": "659c42b1-506c-42bd-83d4-e089017a80ea",
   "metadata": {},
   "source": [
    "### Using formula (n * (n + 1) / 2) * (2 * n + 1) / 3"
   ]
  },
  {
   "cell_type": "code",
   "execution_count": 33,
   "id": "560980ba-b591-40ea-8a24-38a59c3e95d0",
   "metadata": {},
   "outputs": [
    {
     "name": "stdin",
     "output_type": "stream",
     "text": [
      "Enter the number 8\n"
     ]
    },
    {
     "name": "stdout",
     "output_type": "stream",
     "text": [
      "204.0\n"
     ]
    }
   ],
   "source": [
    "def sum_of_first_natural_number(n):\n",
    "    return (n * (n + 1) / 2) * (2 * n + 1) / 3\n",
    "    \n",
    "n = int(input(\"Enter the number\"))\n",
    "\n",
    "print(sum_of_first_natural_number(n))"
   ]
  },
  {
   "cell_type": "markdown",
   "id": "678f3105-eadf-413b-9537-71b88efaaff8",
   "metadata": {},
   "source": [
    "### Using operator "
   ]
  },
  {
   "cell_type": "code",
   "execution_count": 34,
   "id": "db1f0bf2-decd-46f3-a73f-229dd2f4b1f8",
   "metadata": {},
   "outputs": [
    {
     "name": "stdin",
     "output_type": "stream",
     "text": [
      "Enter the number 5\n"
     ]
    },
    {
     "name": "stdout",
     "output_type": "stream",
     "text": [
      "55\n"
     ]
    }
   ],
   "source": [
    "n = int(input(\"Enter the number\"))\n",
    "sum = 0\n",
    "for i in range(1,n+1):\n",
    "    sum  = sum+i**2\n",
    "print(sum)  "
   ]
  },
  {
   "cell_type": "code",
   "execution_count": null,
   "id": "19a50215-0037-4711-9e9c-1fe4671e9d7f",
   "metadata": {},
   "outputs": [],
   "source": []
  }
 ],
 "metadata": {
  "kernelspec": {
   "display_name": "Python 3 (ipykernel)",
   "language": "python",
   "name": "python3"
  },
  "language_info": {
   "codemirror_mode": {
    "name": "ipython",
    "version": 3
   },
   "file_extension": ".py",
   "mimetype": "text/x-python",
   "name": "python",
   "nbconvert_exporter": "python",
   "pygments_lexer": "ipython3",
   "version": "3.12.4"
  }
 },
 "nbformat": 4,
 "nbformat_minor": 5
}
