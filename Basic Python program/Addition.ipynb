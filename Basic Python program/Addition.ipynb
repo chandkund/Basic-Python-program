{
 "cells": [
  {
   "cell_type": "markdown",
   "id": "5115949f-d71d-4e7c-b0c2-5ca5215ec0ca",
   "metadata": {},
   "source": [
    "## Add towo number "
   ]
  },
  {
   "cell_type": "markdown",
   "id": "f118e133-00ae-45ff-a741-de2bf74c1697",
   "metadata": {},
   "source": [
    "### Using operator "
   ]
  },
  {
   "cell_type": "code",
   "execution_count": 6,
   "id": "06d83ef8-232e-4b9a-b85d-d7d4839e82dd",
   "metadata": {},
   "outputs": [
    {
     "name": "stdout",
     "output_type": "stream",
     "text": [
      "sum of two number is  31\n"
     ]
    }
   ],
   "source": [
    "a = 19\n",
    "b = 12\n",
    "print(\"sum of two number is \",a+b)"
   ]
  },
  {
   "cell_type": "markdown",
   "id": "6114df2d-9db5-44e0-b485-1cc292c253bf",
   "metadata": {},
   "source": [
    "### Taking input form user's "
   ]
  },
  {
   "cell_type": "code",
   "execution_count": 5,
   "id": "4cfd2873-173f-4c90-854a-e979a7a3a4c2",
   "metadata": {},
   "outputs": [
    {
     "name": "stdin",
     "output_type": "stream",
     "text": [
      "Enter the first number 13\n",
      "Enter the Second number 67\n"
     ]
    },
    {
     "name": "stdout",
     "output_type": "stream",
     "text": [
      "sum of 13 and 67 is 80 \n"
     ]
    }
   ],
   "source": [
    "a = int(input(\"Enter the first number\" ))\n",
    "b = int(input(\"Enter the Second number\"))\n",
    "sum = a+b\n",
    "print(\"sum of {0} and {1} is {2} \".format(a,b,sum))\n",
    "        \n"
   ]
  },
  {
   "cell_type": "markdown",
   "id": "d43804f2-8294-468a-9092-71de8ebdea43",
   "metadata": {},
   "source": [
    "### Using Function "
   ]
  },
  {
   "cell_type": "code",
   "execution_count": 8,
   "id": "dac1b865-1eb4-4f10-99f1-0daef92fb4c1",
   "metadata": {},
   "outputs": [
    {
     "name": "stdout",
     "output_type": "stream",
     "text": [
      "Sum of two  number is  29\n"
     ]
    }
   ],
   "source": [
    "def sum_of_num(x,y):\n",
    "    return x+y\n",
    "sum = sum_of_num(10,19)\n",
    "print(\"Sum of two  number is \",sum)"
   ]
  },
  {
   "cell_type": "markdown",
   "id": "2146085a-09df-41ca-8a4f-10071ccb5981",
   "metadata": {},
   "source": [
    "### Using lambda \n"
   ]
  },
  {
   "cell_type": "code",
   "execution_count": 10,
   "id": "ff665a20-2284-43e1-87ac-84e9199abd35",
   "metadata": {},
   "outputs": [
    {
     "name": "stdout",
     "output_type": "stream",
     "text": [
      "sum of two number 91\n"
     ]
    }
   ],
   "source": [
    "sum = lambda x,y :x+y\n",
    "print(\"sum of two number\",sum(10,81))"
   ]
  },
  {
   "cell_type": "markdown",
   "id": "685828bc-36a0-42be-b32c-e62eed4e42fb",
   "metadata": {},
   "source": [
    "### Using Library "
   ]
  },
  {
   "cell_type": "code",
   "execution_count": 19,
   "id": "784f3877-3ea7-443f-93c4-e4252264e760",
   "metadata": {},
   "outputs": [
    {
     "name": "stdout",
     "output_type": "stream",
     "text": [
      "sum of two number 33\n"
     ]
    }
   ],
   "source": [
    "import operator\n",
    "\n",
    "sum = operator.add(10,23)\n",
    "print(\"sum of two number\",sum)"
   ]
  },
  {
   "cell_type": "markdown",
   "id": "9d5e4c0d-f6c1-4ca2-b8ac-1a3049114db8",
   "metadata": {},
   "source": [
    "### Using Recursion"
   ]
  },
  {
   "cell_type": "code",
   "execution_count": 20,
   "id": "03315342-0936-4f92-ba0c-83be7fb412de",
   "metadata": {},
   "outputs": [
    {
     "name": "stdout",
     "output_type": "stream",
     "text": [
      "sum of two number 57\n"
     ]
    }
   ],
   "source": [
    "def sum_of_num(x,y):\n",
    "    if y == 0:\n",
    "        return x \n",
    "    else:\n",
    "        return sum_of_num(x+1,y-1)\n",
    "sum = sum_of_num(19,38)\n",
    "print(\"sum of two number\", sum)"
   ]
  },
  {
   "cell_type": "markdown",
   "id": "7be641a9-7156-4494-ac13-b06f80b93e33",
   "metadata": {},
   "source": [
    "### using Library numPy"
   ]
  },
  {
   "cell_type": "code",
   "execution_count": 26,
   "id": "e13f15be-dfcb-4c97-b06b-9ae7fb57217b",
   "metadata": {},
   "outputs": [
    {
     "name": "stdout",
     "output_type": "stream",
     "text": [
      "sum of two number is  157\n"
     ]
    }
   ],
   "source": [
    "import numpy as np \n",
    "sum1 = np.add(23,134)\n",
    "print(\"sum of two number is \",sum1)"
   ]
  },
  {
   "cell_type": "code",
   "execution_count": null,
   "id": "114e9e7b-c66f-4da1-88cd-5d292d3a8ca8",
   "metadata": {},
   "outputs": [],
   "source": []
  }
 ],
 "metadata": {
  "kernelspec": {
   "display_name": "Python 3 (ipykernel)",
   "language": "python",
   "name": "python3"
  },
  "language_info": {
   "codemirror_mode": {
    "name": "ipython",
    "version": 3
   },
   "file_extension": ".py",
   "mimetype": "text/x-python",
   "name": "python",
   "nbconvert_exporter": "python",
   "pygments_lexer": "ipython3",
   "version": "3.12.4"
  }
 },
 "nbformat": 4,
 "nbformat_minor": 5
}
