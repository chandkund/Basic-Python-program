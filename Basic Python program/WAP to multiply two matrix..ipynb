{
 "cells": [
  {
   "cell_type": "markdown",
   "id": "56d8c0b7-713a-42d7-9dd6-77fddfc4a153",
   "metadata": {},
   "source": [
    "## Python Matrix Multiplication of Two-Dimension"
   ]
  },
  {
   "cell_type": "code",
   "execution_count": null,
   "id": "18901225-99cd-4109-8c9a-7c42a9126f1c",
   "metadata": {},
   "outputs": [],
   "source": [
    "matrix_a = [[1, 2], [3, 4]]\n",
    "matrix_b = [[5, 6], [7, 8]]\n",
    "\n",
    "result = [[0, 0], [0, 0]]\n",
    "\n",
    "for i in range(2):\n",
    "    for j in range(2):\n",
    "        result[i][j] = (matrix_a[i][0] * matrix_b[0][j] +\n",
    "                        matrix_a[i][1] * matrix_b[1][j])\n",
    "\n",
    "for row in result:\n",
    "    print(row)"
   ]
  },
  {
   "cell_type": "markdown",
   "id": "896d1a3c-474e-4ecd-be1c-1dfcb32235cc",
   "metadata": {},
   "source": [
    "### Multiply Two Matrices Using Nested Loops"
   ]
  },
  {
   "cell_type": "code",
   "execution_count": null,
   "id": "ac799890-a7b2-4253-be60-f70397c74954",
   "metadata": {},
   "outputs": [],
   "source": [
    "\n",
    "A = [[12, 7, 3],\n",
    "    [4, 5, 6],\n",
    "    [7, 8, 9]]\n",
    "   \n",
    "B = [[5, 8, 1, 2],\n",
    "    [6, 7, 3, 0],\n",
    "    [4, 5, 9, 1]]\n",
    "    \n",
    "result = [[0, 0, 0, 0],\n",
    "        [0, 0, 0, 0],\n",
    "        [0, 0, 0, 0]]\n",
    "\n",
    "\n",
    "for i in range(len(A)):\n",
    "    \n",
    "    for j in range(len(B[0])):\n",
    "        \n",
    "        for k in range(len(B)):\n",
    "            result[i][j] += A[i][k] * B[k][j]\n",
    "\n",
    "for r in result:\n",
    "    print(r)"
   ]
  },
  {
   "cell_type": "markdown",
   "id": "10d78ecc-1523-4021-a45c-4a822bba3962",
   "metadata": {},
   "source": [
    "### Efficient Matrix Multiplication in Python using NumPy"
   ]
  },
  {
   "cell_type": "code",
   "execution_count": null,
   "id": "5987e847-a9f7-403a-b7e9-e5498062c1ad",
   "metadata": {},
   "outputs": [],
   "source": [
    "import numpy as np\n",
    "\n",
    "A = [[12, 7, 3],\n",
    "    [4, 5, 6],\n",
    "    [7, 8, 9]]\n",
    "\n",
    "\n",
    "B = [[5, 8, 1, 2],\n",
    "    [6, 7, 3, 0],\n",
    "    [4, 5, 9, 1]]\n",
    "\n",
    "\n",
    "\n",
    "result= [[0,0,0,0],\n",
    "        [0,0,0,0],\n",
    "        [0,0,0,0]]\n",
    "\n",
    "result = np.dot(A,B)\n",
    "\n",
    "for r in result:\n",
    "    print(r)"
   ]
  },
  {
   "cell_type": "code",
   "execution_count": null,
   "id": "3b8bf5ea-eadd-48b0-b979-80de1da7ca91",
   "metadata": {},
   "outputs": [],
   "source": []
  },
  {
   "cell_type": "code",
   "execution_count": null,
   "id": "ad533e49-bcc4-4bee-93d9-79372aff2f0a",
   "metadata": {},
   "outputs": [],
   "source": []
  },
  {
   "cell_type": "code",
   "execution_count": null,
   "id": "85645ba8-e2df-4d80-8391-9bf289a784a6",
   "metadata": {},
   "outputs": [],
   "source": []
  },
  {
   "cell_type": "code",
   "execution_count": null,
   "id": "498b205b-f87f-4e84-966a-eedae7354dfb",
   "metadata": {},
   "outputs": [],
   "source": []
  },
  {
   "cell_type": "code",
   "execution_count": null,
   "id": "49a794e6-5cef-4f37-9c68-f13a87a02c76",
   "metadata": {},
   "outputs": [],
   "source": []
  },
  {
   "cell_type": "code",
   "execution_count": null,
   "id": "e877bde8-4fea-4c73-86ec-c1dfd20a7e32",
   "metadata": {},
   "outputs": [],
   "source": []
  },
  {
   "cell_type": "code",
   "execution_count": null,
   "id": "bf506800-2d8f-4a78-8d0f-015cb0808a39",
   "metadata": {},
   "outputs": [],
   "source": []
  },
  {
   "cell_type": "code",
   "execution_count": null,
   "id": "93b15245-7036-4192-bf98-8d05a7a7a3a7",
   "metadata": {},
   "outputs": [],
   "source": []
  },
  {
   "cell_type": "code",
   "execution_count": null,
   "id": "296fa487-14b7-45d4-aca2-15afbcaedf0e",
   "metadata": {},
   "outputs": [],
   "source": []
  },
  {
   "cell_type": "code",
   "execution_count": null,
   "id": "193fdf64-e4cd-4de2-85ae-af3755576f64",
   "metadata": {},
   "outputs": [],
   "source": []
  },
  {
   "cell_type": "code",
   "execution_count": null,
   "id": "24a888b6-9bb4-43c2-bd4f-4d03c3943e96",
   "metadata": {},
   "outputs": [],
   "source": []
  },
  {
   "cell_type": "code",
   "execution_count": null,
   "id": "2b38ff5a-5605-4675-8f24-070ceddcc3b4",
   "metadata": {},
   "outputs": [],
   "source": []
  },
  {
   "cell_type": "code",
   "execution_count": null,
   "id": "853b6934-d7e8-4047-afb1-22b458e4d69c",
   "metadata": {},
   "outputs": [],
   "source": []
  },
  {
   "cell_type": "code",
   "execution_count": null,
   "id": "35d846f4-1e5a-42fc-983e-60852844ffa3",
   "metadata": {},
   "outputs": [],
   "source": []
  },
  {
   "cell_type": "code",
   "execution_count": null,
   "id": "9ca6c6b1-3b6a-4c91-b62f-20a70a850c65",
   "metadata": {},
   "outputs": [],
   "source": []
  },
  {
   "cell_type": "code",
   "execution_count": null,
   "id": "eabb7248-84df-4c7f-bd11-64aa31b92ed8",
   "metadata": {},
   "outputs": [],
   "source": []
  },
  {
   "cell_type": "code",
   "execution_count": null,
   "id": "5f5ae2ca-101c-4447-9bde-a4c765b5663f",
   "metadata": {},
   "outputs": [],
   "source": []
  },
  {
   "cell_type": "code",
   "execution_count": null,
   "id": "5211853b-f29f-4a1b-b302-a8a161a45217",
   "metadata": {},
   "outputs": [],
   "source": []
  },
  {
   "cell_type": "code",
   "execution_count": null,
   "id": "cfd47855-997a-445a-8635-b952fbfb0280",
   "metadata": {},
   "outputs": [],
   "source": []
  },
  {
   "cell_type": "code",
   "execution_count": null,
   "id": "6df789ce-3792-4adf-aa1d-c4c433846986",
   "metadata": {},
   "outputs": [],
   "source": []
  },
  {
   "cell_type": "code",
   "execution_count": null,
   "id": "b22e57dd-86d3-4e62-a600-80ebb974c8bc",
   "metadata": {},
   "outputs": [],
   "source": []
  },
  {
   "cell_type": "code",
   "execution_count": null,
   "id": "849694dd-7755-47aa-9cbf-b622ef5fa551",
   "metadata": {},
   "outputs": [],
   "source": []
  },
  {
   "cell_type": "code",
   "execution_count": null,
   "id": "290266ff-73c1-4a1d-86b0-d4485c451b11",
   "metadata": {},
   "outputs": [],
   "source": []
  },
  {
   "cell_type": "code",
   "execution_count": null,
   "id": "25427534-4b29-46cd-bb31-395e962135ca",
   "metadata": {},
   "outputs": [],
   "source": []
  },
  {
   "cell_type": "code",
   "execution_count": null,
   "id": "2cdd026b-1573-49b9-b127-57acf01a6488",
   "metadata": {},
   "outputs": [],
   "source": []
  },
  {
   "cell_type": "code",
   "execution_count": null,
   "id": "d12d60b9-fdb0-44b3-ba31-82ed1cff7e3c",
   "metadata": {},
   "outputs": [],
   "source": []
  },
  {
   "cell_type": "code",
   "execution_count": null,
   "id": "fa290628-f8bc-4e30-9397-5705ff1eee4b",
   "metadata": {},
   "outputs": [],
   "source": []
  },
  {
   "cell_type": "code",
   "execution_count": null,
   "id": "45e7f373-086c-4507-b634-4ed5f18f507d",
   "metadata": {},
   "outputs": [],
   "source": []
  },
  {
   "cell_type": "code",
   "execution_count": null,
   "id": "b040b5cc-cc66-4983-9e5f-02a40a3b9d9c",
   "metadata": {},
   "outputs": [],
   "source": []
  },
  {
   "cell_type": "code",
   "execution_count": null,
   "id": "9dd60123-d4c4-42d0-beff-b2610401fbab",
   "metadata": {},
   "outputs": [],
   "source": []
  }
 ],
 "metadata": {
  "kernelspec": {
   "display_name": "Python 3 (ipykernel)",
   "language": "python",
   "name": "python3"
  },
  "language_info": {
   "codemirror_mode": {
    "name": "ipython",
    "version": 3
   },
   "file_extension": ".py",
   "mimetype": "text/x-python",
   "name": "python",
   "nbconvert_exporter": "python",
   "pygments_lexer": "ipython3",
   "version": "3.12.4"
  }
 },
 "nbformat": 4,
 "nbformat_minor": 5
}
