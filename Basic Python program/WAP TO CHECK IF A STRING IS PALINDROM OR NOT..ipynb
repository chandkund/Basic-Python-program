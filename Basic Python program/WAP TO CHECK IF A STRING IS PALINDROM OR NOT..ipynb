{
 "cells": [
  {
   "cell_type": "code",
   "execution_count": null,
   "id": "30be0c9a-f587-4bbd-9d6f-730b9455e2a9",
   "metadata": {},
   "outputs": [],
   "source": []
  },
  {
   "cell_type": "code",
   "execution_count": 13,
   "id": "ee3be78c-108f-4ec2-908d-a8b854aaa011",
   "metadata": {},
   "outputs": [
    {
     "name": "stdout",
     "output_type": "stream",
     "text": [
      "String is not palindrome\n"
     ]
    }
   ],
   "source": [
    "def Palindrome(s):\n",
    "    return s == s[-1::-1]\n",
    "\n",
    "\n",
    "s = \"level\"\n",
    "ans = Palindrome(s)\n",
    "\n",
    "if ans:\n",
    "    print(\"String is not palindrome\")\n",
    "else:\n",
    "    print(\"No\")"
   ]
  },
  {
   "cell_type": "code",
   "execution_count": null,
   "id": "8c254711-81d9-4e4b-9ae8-75418363750f",
   "metadata": {},
   "outputs": [],
   "source": []
  },
  {
   "cell_type": "code",
   "execution_count": 14,
   "id": "2e35b329-39ff-458a-be9c-f439bd4e27fa",
   "metadata": {},
   "outputs": [
    {
     "name": "stdout",
     "output_type": "stream",
     "text": [
      "String is not palindrome\n"
     ]
    }
   ],
   "source": [
    "x = \"chand\"\n",
    "\n",
    "w = \"\"\n",
    "for i in x:\n",
    "    w = i + w\n",
    "  \n",
    "\n",
    "if x==w:\n",
    "    print(\"String is Palindrome\")\n",
    "else:\n",
    "    print(\"String is not palindrome\")\n"
   ]
  },
  {
   "cell_type": "code",
   "execution_count": null,
   "id": "0f600280-4009-436c-a02c-8f47bcb1668b",
   "metadata": {},
   "outputs": [],
   "source": []
  },
  {
   "cell_type": "code",
   "execution_count": null,
   "id": "502a66e0-4655-439c-937e-0256ba00d5c9",
   "metadata": {},
   "outputs": [],
   "source": [
    "\n",
    "st = 'malayalam'\n",
    "j = -1\n",
    "flag = 0\n",
    "for i in st:\n",
    "    if i != st[j]:\n",
    "        flag = 1\n",
    "        break\n",
    "    j = j - 1\n",
    "if flag == 1:\n",
    "    print(\"NO\")\n",
    "else:\n",
    "    print(\"Yes\")"
   ]
  },
  {
   "cell_type": "code",
   "execution_count": null,
   "id": "7b8636c5-62fd-4632-bbc5-4ba326b0a707",
   "metadata": {},
   "outputs": [],
   "source": []
  },
  {
   "cell_type": "code",
   "execution_count": null,
   "id": "d4b70608-d6d6-4dbb-8be7-6fef0d60b6cb",
   "metadata": {},
   "outputs": [],
   "source": []
  },
  {
   "cell_type": "code",
   "execution_count": null,
   "id": "8280f832-8232-4a79-82c9-aea290e1fbf1",
   "metadata": {},
   "outputs": [],
   "source": []
  },
  {
   "cell_type": "code",
   "execution_count": null,
   "id": "caf3753f-b5b4-496c-ba9f-0d15db087ac8",
   "metadata": {},
   "outputs": [],
   "source": []
  }
 ],
 "metadata": {
  "kernelspec": {
   "display_name": "Python 3 (ipykernel)",
   "language": "python",
   "name": "python3"
  },
  "language_info": {
   "codemirror_mode": {
    "name": "ipython",
    "version": 3
   },
   "file_extension": ".py",
   "mimetype": "text/x-python",
   "name": "python",
   "nbconvert_exporter": "python",
   "pygments_lexer": "ipython3",
   "version": "3.12.4"
  }
 },
 "nbformat": 4,
 "nbformat_minor": 5
}
