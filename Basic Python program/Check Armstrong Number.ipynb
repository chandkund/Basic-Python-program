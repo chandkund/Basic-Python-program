{
 "cells": [
  {
   "cell_type": "markdown",
   "id": "bbfdc873-ea6f-481f-bd27-29fb9ff5171a",
   "metadata": {},
   "source": [
    "## Check Armstrong Number"
   ]
  },
  {
   "cell_type": "markdown",
   "id": "ce8d4cd0-cd71-4e71-b554-82f626d78c48",
   "metadata": {},
   "source": [
    "### Using two Function "
   ]
  },
  {
   "cell_type": "code",
   "execution_count": 16,
   "id": "871e2355-f594-48ba-8e34-dd43fc8faf23",
   "metadata": {},
   "outputs": [
    {
     "name": "stdin",
     "output_type": "stream",
     "text": [
      "Enter the number 123\n"
     ]
    },
    {
     "name": "stdout",
     "output_type": "stream",
     "text": [
      "Number is not armsttrong number\n"
     ]
    }
   ],
   "source": [
    "n = int(input(\"Enter the number\"))\n",
    "num = n\n",
    "def find_digits(n):\n",
    "    digists = 0\n",
    "    while n>0:\n",
    "        if n% 10:\n",
    "            digists = digists+1\n",
    "        else:\n",
    "            break\n",
    "        n = n//10\n",
    "    \n",
    "    return digists\n",
    "\n",
    "def armstrong(n,digists):\n",
    "    sum = 0\n",
    "    for i in range(1,digists+1):\n",
    "       rem = n%10\n",
    "       sum = sum+ pow(rem,digists)\n",
    "       n = n//10\n",
    "    \n",
    "    return sum \n",
    "    \n",
    "digists = find_digits(n)\n",
    "sum = armstrong(n,digists)\n",
    "if sum == num:\n",
    "    \n",
    "    print(\"Number is armstrong number\",sum)\n",
    "else:\n",
    "    print(\"Number is not armsttrong number\")\n",
    "\n",
    "\n",
    "    \n"
   ]
  },
  {
   "cell_type": "markdown",
   "id": "a7677053-c466-4e00-9d72-b9dcf10fe41b",
   "metadata": {},
   "source": [
    "### Using Sring function "
   ]
  },
  {
   "cell_type": "code",
   "execution_count": 24,
   "id": "09a29f2e-1e45-4c09-bae2-284fbd83ef6b",
   "metadata": {},
   "outputs": [
    {
     "name": "stdin",
     "output_type": "stream",
     "text": [
      "Enter the number 153\n"
     ]
    },
    {
     "name": "stdout",
     "output_type": "stream",
     "text": [
      "Number is armstrong 153\n"
     ]
    }
   ],
   "source": [
    "n = int(input(\"Enter the number\"))\n",
    "power = len(str(n))\n",
    "digists = str(n)\n",
    "\n",
    "sum = 0\n",
    "for i in digists:\n",
    "    sum = sum +pow(int(i),power)\n",
    "if n == sum:\n",
    "    print(\"Number is armstrong\",sum)\n",
    "else:\n",
    "    print(\"Number is not armstrong\")"
   ]
  },
  {
   "cell_type": "code",
   "execution_count": 32,
   "id": "81f48f92-faf6-4098-baad-9ec178c672d8",
   "metadata": {},
   "outputs": [
    {
     "name": "stdin",
     "output_type": "stream",
     "text": [
      "Enter the number 153\n"
     ]
    },
    {
     "name": "stdout",
     "output_type": "stream",
     "text": [
      "number is armstrong  153\n"
     ]
    }
   ],
   "source": [
    "def armstrong(n):\n",
    "    digists = 0\n",
    "    num = n\n",
    "    while n>0:\n",
    "        n = n//10\n",
    "        digists = digists+1\n",
    "        \n",
    "    digists = digists \n",
    "    sum = 0\n",
    "    n = num\n",
    "    while n>0:\n",
    "        rem = n % 10\n",
    "        sum = sum+pow(rem,digists)\n",
    "        n = n//10\n",
    "    return sum \n",
    "\n",
    "n = int(input(\"Enter the number\"))\n",
    "\n",
    "\n",
    "sum = armstrong(n)\n",
    "if n == sum:\n",
    "    print(\"number is armstrong \",sum)\n",
    "else:\n",
    "    print(\"Number is not armstrong\")\n",
    "\n",
    "\n"
   ]
  },
  {
   "cell_type": "code",
   "execution_count": null,
   "id": "81dbd2d5-9e5b-4636-8420-c83c954e66d0",
   "metadata": {},
   "outputs": [],
   "source": []
  },
  {
   "cell_type": "code",
   "execution_count": null,
   "id": "a963fef2-022e-407d-aa62-cc5e9ab611bc",
   "metadata": {},
   "outputs": [],
   "source": []
  },
  {
   "cell_type": "code",
   "execution_count": null,
   "id": "185649ba-1c0b-4d26-9449-657c4e84e9ad",
   "metadata": {},
   "outputs": [],
   "source": []
  },
  {
   "cell_type": "code",
   "execution_count": null,
   "id": "a7710901-9a7a-4be4-8aca-6420927adc4f",
   "metadata": {},
   "outputs": [],
   "source": []
  },
  {
   "cell_type": "code",
   "execution_count": null,
   "id": "b556b271-24a4-4f58-804d-b913d2fb5518",
   "metadata": {},
   "outputs": [],
   "source": []
  },
  {
   "cell_type": "code",
   "execution_count": null,
   "id": "8b9bd619-a258-48d8-ab7b-826ed22ff1ce",
   "metadata": {},
   "outputs": [],
   "source": []
  },
  {
   "cell_type": "code",
   "execution_count": null,
   "id": "cec25ed9-1277-4e21-9c8c-08262f10df37",
   "metadata": {},
   "outputs": [],
   "source": []
  },
  {
   "cell_type": "code",
   "execution_count": null,
   "id": "6061ef14-b7da-4a04-9ef8-ca9970b95be1",
   "metadata": {},
   "outputs": [],
   "source": []
  },
  {
   "cell_type": "code",
   "execution_count": null,
   "id": "532a6e4d-a251-4b95-a775-b63f26d4fe82",
   "metadata": {},
   "outputs": [],
   "source": []
  },
  {
   "cell_type": "code",
   "execution_count": null,
   "id": "44727058-7346-4745-ab4f-e11cd59a536b",
   "metadata": {},
   "outputs": [],
   "source": []
  },
  {
   "cell_type": "code",
   "execution_count": null,
   "id": "a25e1a4d-b904-473e-b1fc-11eaf880ebde",
   "metadata": {},
   "outputs": [],
   "source": []
  },
  {
   "cell_type": "code",
   "execution_count": null,
   "id": "5255df91-804f-4adf-88ce-b52265967d6d",
   "metadata": {},
   "outputs": [],
   "source": []
  },
  {
   "cell_type": "code",
   "execution_count": null,
   "id": "d2a7e54a-94c6-46b7-a67c-ff1fb00c9fa1",
   "metadata": {},
   "outputs": [],
   "source": []
  },
  {
   "cell_type": "code",
   "execution_count": null,
   "id": "52af15ed-1bb3-49a5-b434-43455bf4c830",
   "metadata": {},
   "outputs": [],
   "source": []
  },
  {
   "cell_type": "code",
   "execution_count": null,
   "id": "f4831dc2-6f63-43cc-b287-f7a582630e94",
   "metadata": {},
   "outputs": [],
   "source": []
  }
 ],
 "metadata": {
  "kernelspec": {
   "display_name": "Python 3 (ipykernel)",
   "language": "python",
   "name": "python3"
  },
  "language_info": {
   "codemirror_mode": {
    "name": "ipython",
    "version": 3
   },
   "file_extension": ".py",
   "mimetype": "text/x-python",
   "name": "python",
   "nbconvert_exporter": "python",
   "pygments_lexer": "ipython3",
   "version": "3.12.4"
  }
 },
 "nbformat": 4,
 "nbformat_minor": 5
}
