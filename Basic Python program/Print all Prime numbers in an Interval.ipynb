{
 "cells": [
  {
   "cell_type": "markdown",
   "id": "c0ef1883-8d35-4a7e-a0ba-ddf8057fb2d2",
   "metadata": {},
   "source": [
    "## Print all Prime numbers in an Interval"
   ]
  },
  {
   "cell_type": "markdown",
   "id": "5e785b8d-b5b4-475f-ad28-56f5dee94fbc",
   "metadata": {},
   "source": [
    "### using function"
   ]
  },
  {
   "cell_type": "code",
   "execution_count": 37,
   "id": "555e8c5a-b650-4f13-82ac-9b114ffe1d9e",
   "metadata": {},
   "outputs": [
    {
     "name": "stdout",
     "output_type": "stream",
     "text": [
      "[2, 3, 5, 7, 11, 13, 17, 19, 23, 29, 31, 37, 41, 43, 47, 53, 59, 61, 67, 71, 73, 79, 83, 89, 97]\n"
     ]
    }
   ],
   "source": [
    "def prime_number_in_interval(x,y):\n",
    "    list = []\n",
    "    for i in range(x,y):\n",
    "        if i == 0 or i == 1:\n",
    "            continue \n",
    "        else:\n",
    "            for j in range(2,i):\n",
    "                if i%j == 0:\n",
    "                    break\n",
    "            else:\n",
    "                list.append(i)\n",
    "    return list        \n",
    "print(prime_number_in_interval(1,100))"
   ]
  },
  {
   "cell_type": "markdown",
   "id": "6522e3d3-89fb-43f8-8c33-3a4fcb4a0e47",
   "metadata": {},
   "source": [
    "## Using Flag"
   ]
  },
  {
   "cell_type": "code",
   "execution_count": 49,
   "id": "c85588c1-b01a-4204-b1ab-ed71cf1207ab",
   "metadata": {},
   "outputs": [
    {
     "name": "stdout",
     "output_type": "stream",
     "text": [
      "[2, 3, 5, 7, 11, 13, 17, 19, 23, 29, 31, 37, 41, 43, 47, 53, 59, 61, 67, 71, 73, 79, 83, 89, 97]\n"
     ]
    }
   ],
   "source": [
    "def prime_number_bt_interval(x,y):\n",
    "    list = []\n",
    "    for i in range(x,y):\n",
    "        if i == 0 or i== 1:\n",
    "            continue\n",
    "        flag = 0\n",
    "        for j in range(2,i):\n",
    "            if i%j == 0:\n",
    "                flag = 1\n",
    "                break\n",
    "            else:\n",
    "                flag = 0\n",
    "        if flag == 0:\n",
    "            list.append(i)\n",
    "    return list\n",
    "            \n",
    "print(prime_number_bt_interval(1,100))       "
   ]
  },
  {
   "cell_type": "code",
   "execution_count": null,
   "id": "e0b168f7-c5b3-4ad9-a1e2-2a48312bce42",
   "metadata": {},
   "outputs": [],
   "source": []
  }
 ],
 "metadata": {
  "kernelspec": {
   "display_name": "Python 3 (ipykernel)",
   "language": "python",
   "name": "python3"
  },
  "language_info": {
   "codemirror_mode": {
    "name": "ipython",
    "version": 3
   },
   "file_extension": ".py",
   "mimetype": "text/x-python",
   "name": "python",
   "nbconvert_exporter": "python",
   "pygments_lexer": "ipython3",
   "version": "3.12.4"
  }
 },
 "nbformat": 4,
 "nbformat_minor": 5
}
