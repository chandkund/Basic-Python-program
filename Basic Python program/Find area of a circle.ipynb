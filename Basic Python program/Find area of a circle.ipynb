{
 "cells": [
  {
   "cell_type": "markdown",
   "id": "d6246896-c099-45c6-85d7-ee294cc5949d",
   "metadata": {},
   "source": [
    "## Find area of a circle"
   ]
  },
  {
   "cell_type": "markdown",
   "id": "a1754b37-95dd-4039-a8a8-d47521f55651",
   "metadata": {},
   "source": [
    "### Using operator"
   ]
  },
  {
   "cell_type": "code",
   "execution_count": 4,
   "id": "4d8234ba-a12f-466a-96b9-3ae2329f4506",
   "metadata": {},
   "outputs": [
    {
     "name": "stdin",
     "output_type": "stream",
     "text": [
      "Enter the radius 123\n"
     ]
    },
    {
     "name": "stdout",
     "output_type": "stream",
     "text": [
      "Area of circle  47505.060000000005\n"
     ]
    }
   ],
   "source": [
    "r = int(input(\"Enter the radius\"))\n",
    "pi  = 3.14\n",
    "area =  pi*r**2\n",
    "print(\"Area of circle \",area)"
   ]
  },
  {
   "cell_type": "markdown",
   "id": "5d6cb814-07f7-435f-b636-bc1fe756eb02",
   "metadata": {},
   "source": [
    "### Using math library"
   ]
  },
  {
   "cell_type": "code",
   "execution_count": 7,
   "id": "48375117-0466-49b3-bc09-6d1f889d9f3d",
   "metadata": {},
   "outputs": [
    {
     "name": "stdin",
     "output_type": "stream",
     "text": [
      "Enter the radius 324\n"
     ]
    },
    {
     "name": "stdout",
     "output_type": "stream",
     "text": [
      "Area of circle  329791.83040324214\n"
     ]
    }
   ],
   "source": [
    "import math\n",
    "r = int(input(\"Enter the radius\"))\n",
    "area =  math.pi*r**2\n",
    "print(\"Area of circle \",area)"
   ]
  },
  {
   "cell_type": "markdown",
   "id": "e5fced1f-a8d8-4aed-b8b3-bfc4f72c0cf3",
   "metadata": {},
   "source": [
    "### using lambda "
   ]
  },
  {
   "cell_type": "code",
   "execution_count": 9,
   "id": "1997ec42-bd1d-4d4f-9120-b2b0cccde372",
   "metadata": {},
   "outputs": [
    {
     "name": "stdin",
     "output_type": "stream",
     "text": [
      "Enter the radius 123\n"
     ]
    },
    {
     "name": "stdout",
     "output_type": "stream",
     "text": [
      "Area of circle  47529.15525615998\n"
     ]
    }
   ],
   "source": [
    "import math\n",
    "r = int(input(\"Enter the radius\"))\n",
    "area =  lambda r : math.pi*pow(r,2)\n",
    "print(\"Area of circle \",area(r))\n"
   ]
  },
  {
   "cell_type": "markdown",
   "id": "0d5c4995-f4b4-4383-8fa6-b2413dae5385",
   "metadata": {},
   "source": [
    "### Using function "
   ]
  },
  {
   "cell_type": "code",
   "execution_count": 12,
   "id": "1fc1c648-2cea-4fbb-923b-62bc77a73d62",
   "metadata": {},
   "outputs": [
    {
     "name": "stdin",
     "output_type": "stream",
     "text": [
      "Enter the radius 324\n"
     ]
    },
    {
     "name": "stdout",
     "output_type": "stream",
     "text": [
      "Area of circle  329791.83040324214\n"
     ]
    }
   ],
   "source": [
    "import math\n",
    "r = int(input(\"Enter the radius\"))\n",
    "\n",
    "def area_circle(r):\n",
    "    area =  math.pi*r**2\n",
    "    return area\n",
    "print(\"Area of circle \",area(r))\n",
    "\n",
    "    "
   ]
  },
  {
   "cell_type": "code",
   "execution_count": null,
   "id": "50b788e7-67aa-4888-b626-010f7c269a21",
   "metadata": {},
   "outputs": [],
   "source": []
  },
  {
   "cell_type": "code",
   "execution_count": null,
   "id": "e57f3b1c-f53d-4745-9921-316e17dbe136",
   "metadata": {},
   "outputs": [],
   "source": []
  },
  {
   "cell_type": "code",
   "execution_count": null,
   "id": "d9e6db72-bd20-4bdf-bcf2-eb5849998638",
   "metadata": {},
   "outputs": [],
   "source": []
  },
  {
   "cell_type": "code",
   "execution_count": null,
   "id": "d688d3b3-5b74-4e10-b13a-d815f27eb8de",
   "metadata": {},
   "outputs": [],
   "source": []
  },
  {
   "cell_type": "code",
   "execution_count": null,
   "id": "713b31f9-a9e2-4332-b62e-82c4113fa570",
   "metadata": {},
   "outputs": [],
   "source": []
  },
  {
   "cell_type": "code",
   "execution_count": null,
   "id": "e9b3826a-2734-43d7-81a5-33abd96e5922",
   "metadata": {},
   "outputs": [],
   "source": []
  },
  {
   "cell_type": "code",
   "execution_count": null,
   "id": "ab352de1-dcd5-46da-b0dd-ae7b8d86d642",
   "metadata": {},
   "outputs": [],
   "source": []
  },
  {
   "cell_type": "code",
   "execution_count": null,
   "id": "28c19267-a135-48bc-b585-14321c8d3147",
   "metadata": {},
   "outputs": [],
   "source": []
  },
  {
   "cell_type": "code",
   "execution_count": null,
   "id": "95b80d06-0f29-4b3d-8319-0d7deaf63788",
   "metadata": {},
   "outputs": [],
   "source": []
  },
  {
   "cell_type": "code",
   "execution_count": null,
   "id": "e4467635-b543-4826-86d0-9809df3be019",
   "metadata": {},
   "outputs": [],
   "source": []
  },
  {
   "cell_type": "code",
   "execution_count": null,
   "id": "e36486c8-cae2-4ff1-a9ae-f66c5426a8c2",
   "metadata": {},
   "outputs": [],
   "source": []
  },
  {
   "cell_type": "code",
   "execution_count": null,
   "id": "dff29bfb-951d-4254-96d4-c9c2ff74d39d",
   "metadata": {},
   "outputs": [],
   "source": []
  },
  {
   "cell_type": "code",
   "execution_count": null,
   "id": "10c6d1f9-e543-4702-868d-533a6add7e19",
   "metadata": {},
   "outputs": [],
   "source": []
  },
  {
   "cell_type": "code",
   "execution_count": null,
   "id": "9de94008-930e-4916-84ae-cbbe712d0d7b",
   "metadata": {},
   "outputs": [],
   "source": []
  },
  {
   "cell_type": "code",
   "execution_count": null,
   "id": "12059756-df0e-4aa8-a9be-56f050861b83",
   "metadata": {},
   "outputs": [],
   "source": []
  },
  {
   "cell_type": "code",
   "execution_count": null,
   "id": "11bf95e5-57de-43ff-83a8-89fba65cb635",
   "metadata": {},
   "outputs": [],
   "source": []
  },
  {
   "cell_type": "code",
   "execution_count": null,
   "id": "80ab195f-7a28-4035-a597-5ea35112f0c1",
   "metadata": {},
   "outputs": [],
   "source": []
  },
  {
   "cell_type": "code",
   "execution_count": null,
   "id": "596ead8f-3385-4458-95a5-f1aeb1c33f92",
   "metadata": {},
   "outputs": [],
   "source": []
  },
  {
   "cell_type": "code",
   "execution_count": null,
   "id": "e8a9f2e7-eca1-4462-9a04-426788b1f5c5",
   "metadata": {},
   "outputs": [],
   "source": []
  },
  {
   "cell_type": "code",
   "execution_count": null,
   "id": "627a414f-e17e-4c27-b30c-c491fe058456",
   "metadata": {},
   "outputs": [],
   "source": []
  },
  {
   "cell_type": "code",
   "execution_count": null,
   "id": "664c2a52-9b3c-4780-b78f-7d3365a58258",
   "metadata": {},
   "outputs": [],
   "source": []
  },
  {
   "cell_type": "code",
   "execution_count": null,
   "id": "2911c0ef-207c-455c-bc5f-bcc66528a091",
   "metadata": {},
   "outputs": [],
   "source": []
  },
  {
   "cell_type": "code",
   "execution_count": null,
   "id": "4e6a7ffb-56a3-44e0-8f9d-ded114fae080",
   "metadata": {},
   "outputs": [],
   "source": []
  },
  {
   "cell_type": "code",
   "execution_count": null,
   "id": "dfe1ac8b-7a89-4540-a3ec-342e5c7455fa",
   "metadata": {},
   "outputs": [],
   "source": []
  },
  {
   "cell_type": "code",
   "execution_count": null,
   "id": "f8f95300-c8d7-4173-ba03-70bacc99d6e5",
   "metadata": {},
   "outputs": [],
   "source": []
  },
  {
   "cell_type": "code",
   "execution_count": null,
   "id": "efd61ff2-5e93-46da-99e9-b43313d3d9e4",
   "metadata": {},
   "outputs": [],
   "source": []
  },
  {
   "cell_type": "code",
   "execution_count": null,
   "id": "b18edee5-6522-4ab7-a744-ef43d130eee5",
   "metadata": {},
   "outputs": [],
   "source": []
  },
  {
   "cell_type": "code",
   "execution_count": null,
   "id": "a5f83cfc-bc4e-4652-8390-4a5194451bdd",
   "metadata": {},
   "outputs": [],
   "source": []
  },
  {
   "cell_type": "code",
   "execution_count": null,
   "id": "5153e4d7-8a65-41c2-8ce2-26f55c605ede",
   "metadata": {},
   "outputs": [],
   "source": []
  },
  {
   "cell_type": "code",
   "execution_count": null,
   "id": "c18b5398-94a1-49fd-9225-05f76685a35e",
   "metadata": {},
   "outputs": [],
   "source": []
  },
  {
   "cell_type": "code",
   "execution_count": null,
   "id": "2cb4d146-e350-4ef5-9850-dabf3cd08cd8",
   "metadata": {},
   "outputs": [],
   "source": []
  },
  {
   "cell_type": "code",
   "execution_count": null,
   "id": "b38aef69-3c00-44fc-9d08-1932ba4d5c0d",
   "metadata": {},
   "outputs": [],
   "source": []
  },
  {
   "cell_type": "code",
   "execution_count": null,
   "id": "d5c0b2b5-1556-4d3d-b850-547ff8ebf5de",
   "metadata": {},
   "outputs": [],
   "source": []
  },
  {
   "cell_type": "code",
   "execution_count": null,
   "id": "62feeac8-2b1b-4434-841e-9f97f27c0633",
   "metadata": {},
   "outputs": [],
   "source": []
  },
  {
   "cell_type": "code",
   "execution_count": null,
   "id": "c8b2e733-af47-48f6-a771-66e463bd79a4",
   "metadata": {},
   "outputs": [],
   "source": []
  },
  {
   "cell_type": "code",
   "execution_count": null,
   "id": "eeda51bf-963a-454d-beb4-10a20fe834a9",
   "metadata": {},
   "outputs": [],
   "source": []
  },
  {
   "cell_type": "code",
   "execution_count": null,
   "id": "f5c087e3-34d3-4d02-ae03-885ca2595e7f",
   "metadata": {},
   "outputs": [],
   "source": []
  },
  {
   "cell_type": "code",
   "execution_count": null,
   "id": "af336d91-b583-4217-8579-ce7953cd9bfc",
   "metadata": {},
   "outputs": [],
   "source": []
  }
 ],
 "metadata": {
  "kernelspec": {
   "display_name": "Python 3 (ipykernel)",
   "language": "python",
   "name": "python3"
  },
  "language_info": {
   "codemirror_mode": {
    "name": "ipython",
    "version": 3
   },
   "file_extension": ".py",
   "mimetype": "text/x-python",
   "name": "python",
   "nbconvert_exporter": "python",
   "pygments_lexer": "ipython3",
   "version": "3.12.4"
  }
 },
 "nbformat": 4,
 "nbformat_minor": 5
}
