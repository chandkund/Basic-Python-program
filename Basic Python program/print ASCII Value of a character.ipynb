{
 "cells": [
  {
   "cell_type": "markdown",
   "id": "9912bc9d-f385-4755-9c9a-e2a4f94aeacd",
   "metadata": {},
   "source": [
    "## Print ASCII Value of a character"
   ]
  },
  {
   "cell_type": "markdown",
   "id": "b1988193-d3c7-4bbe-a54a-abb297e7955e",
   "metadata": {},
   "source": [
    "## Using Ord() function"
   ]
  },
  {
   "cell_type": "markdown",
   "id": "cdc31c7f-73a6-4314-b08a-9f7c77be0781",
   "metadata": {},
   "source": [
    "####  Single Char"
   ]
  },
  {
   "cell_type": "code",
   "execution_count": 11,
   "id": "f8819d04-908f-4ccb-a2a9-486470d4858d",
   "metadata": {},
   "outputs": [
    {
     "name": "stdout",
     "output_type": "stream",
     "text": [
      "99\n"
     ]
    }
   ],
   "source": [
    "p = \"c\"\n",
    "print(ord(p))"
   ]
  },
  {
   "cell_type": "markdown",
   "id": "2dfb9e91-24f8-4edf-a381-c7e0fcd7a5ab",
   "metadata": {},
   "source": [
    "### Any sentence or words "
   ]
  },
  {
   "cell_type": "code",
   "execution_count": 10,
   "id": "40521e25-752b-4820-94fe-4f24cce98bf8",
   "metadata": {},
   "outputs": [
    {
     "name": "stdin",
     "output_type": "stream",
     "text": [
      "Enter any number chandan kumar\n"
     ]
    },
    {
     "name": "stdout",
     "output_type": "stream",
     "text": [
      "c : 99\n",
      "h : 104\n",
      "a : 97\n",
      "n : 110\n",
      "d : 100\n",
      "a : 97\n",
      "n : 110\n",
      "  : 32\n",
      "k : 107\n",
      "u : 117\n",
      "m : 109\n",
      "a : 97\n",
      "r : 114\n"
     ]
    }
   ],
   "source": [
    "str = input(\"Enter any number\")\n",
    "for i in str:\n",
    "    print(i,\":\",ord(i))"
   ]
  },
  {
   "cell_type": "code",
   "execution_count": null,
   "id": "479764be-a5eb-4bf2-a310-495774650c5a",
   "metadata": {},
   "outputs": [],
   "source": []
  }
 ],
 "metadata": {
  "kernelspec": {
   "display_name": "Python 3 (ipykernel)",
   "language": "python",
   "name": "python3"
  },
  "language_info": {
   "codemirror_mode": {
    "name": "ipython",
    "version": 3
   },
   "file_extension": ".py",
   "mimetype": "text/x-python",
   "name": "python",
   "nbconvert_exporter": "python",
   "pygments_lexer": "ipython3",
   "version": "3.12.4"
  }
 },
 "nbformat": 4,
 "nbformat_minor": 5
}
