{
 "cells": [
  {
   "cell_type": "code",
   "execution_count": null,
   "id": "f94a149d-e500-4e17-8cfe-71065f1f9492",
   "metadata": {},
   "outputs": [],
   "source": [
    "WAP TO COUNT THE NUMBERS OF MATCHING CHARACTERS IN A PAIR OF A STRING ."
   ]
  },
  {
   "cell_type": "code",
   "execution_count": 2,
   "id": "3399ebf3-ef8b-4066-ac9e-cad14f1c69ce",
   "metadata": {},
   "outputs": [
    {
     "name": "stdout",
     "output_type": "stream",
     "text": [
      "1\n"
     ]
    }
   ],
   "source": [
    "s1 = \"Chandan\"\n",
    "s2 = \"Kumar\"\n",
    "\n",
    "res= len(set(s1.lower()).intersection(set(s2.lower())))\n",
    "print(res)"
   ]
  },
  {
   "cell_type": "code",
   "execution_count": null,
   "id": "cf70b96c-e876-43b6-9137-c8256163db64",
   "metadata": {},
   "outputs": [],
   "source": []
  },
  {
   "cell_type": "code",
   "execution_count": 3,
   "id": "3d09e2ed-725c-43cd-afe6-bba00ab007c6",
   "metadata": {},
   "outputs": [
    {
     "name": "stdout",
     "output_type": "stream",
     "text": [
      "1\n"
     ]
    }
   ],
   "source": [
    "from collections import Counter\n",
    "\n",
    "s1 = \"Chandan\"\n",
    "s2 = \"Kumar\"\n",
    "\n",
    "c1 = Counter(s1.lower())\n",
    "c2= Counter(s2.lower())\n",
    "\n",
    "res = sum((c1 & c2).values())\n",
    "print(res)"
   ]
  },
  {
   "cell_type": "code",
   "execution_count": null,
   "id": "d6ce783c-2e4c-47e4-82d9-a8d73e0f99da",
   "metadata": {},
   "outputs": [],
   "source": []
  },
  {
   "cell_type": "code",
   "execution_count": null,
   "id": "e9e9965e-3152-4136-967e-39bad8fb227a",
   "metadata": {},
   "outputs": [],
   "source": []
  }
 ],
 "metadata": {
  "kernelspec": {
   "display_name": "Python 3 (ipykernel)",
   "language": "python",
   "name": "python3"
  },
  "language_info": {
   "codemirror_mode": {
    "name": "ipython",
    "version": 3
   },
   "file_extension": ".py",
   "mimetype": "text/x-python",
   "name": "python",
   "nbconvert_exporter": "python",
   "pygments_lexer": "ipython3",
   "version": "3.12.4"
  }
 },
 "nbformat": 4,
 "nbformat_minor": 5
}
