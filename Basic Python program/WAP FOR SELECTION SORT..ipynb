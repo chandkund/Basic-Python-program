{
 "cells": [
  {
   "cell_type": "code",
   "execution_count": null,
   "id": "9b33b9b7-ad04-47e9-a206-40c934234dbb",
   "metadata": {},
   "outputs": [],
   "source": []
  },
  {
   "cell_type": "code",
   "execution_count": 1,
   "id": "77e0c907-01d1-450d-9c82-843c8835b377",
   "metadata": {},
   "outputs": [
    {
     "name": "stdout",
     "output_type": "stream",
     "text": [
      "The array after sorting in Ascending Order by selection sort is:\n",
      "[-202, -97, -9, -2, 0, 11, 45, 88, 747]\n"
     ]
    }
   ],
   "source": [
    "\n",
    "def selectionSort(array, size):\n",
    "\t\n",
    "\tfor ind in range(size):\n",
    "\t\tmin_index = ind\n",
    "\n",
    "\t\tfor j in range(ind + 1, size):\n",
    "            \n",
    "\t\t\tif array[j] < array[min_index]:\n",
    "\t\t\t\tmin_index = j\n",
    "\t\t(array[ind], array[min_index]) = (array[min_index], array[ind])\n",
    "\n",
    "arr = [-2, 45, 0, 11, -9,88,-97,-202,747]\n",
    "size = len(arr)\n",
    "selectionSort(arr, size)\n",
    "print('The array after sorting in Ascending Order by selection sort is:')\n",
    "print(arr)\n"
   ]
  },
  {
   "cell_type": "code",
   "execution_count": null,
   "id": "aa553ac0-5582-46b2-ad79-2112713e164d",
   "metadata": {},
   "outputs": [],
   "source": []
  }
 ],
 "metadata": {
  "kernelspec": {
   "display_name": "Python 3 (ipykernel)",
   "language": "python",
   "name": "python3"
  },
  "language_info": {
   "codemirror_mode": {
    "name": "ipython",
    "version": 3
   },
   "file_extension": ".py",
   "mimetype": "text/x-python",
   "name": "python",
   "nbconvert_exporter": "python",
   "pygments_lexer": "ipython3",
   "version": "3.12.4"
  }
 },
 "nbformat": 4,
 "nbformat_minor": 5
}
