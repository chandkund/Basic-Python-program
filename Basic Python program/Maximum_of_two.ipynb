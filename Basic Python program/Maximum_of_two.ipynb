{
 "cells": [
  {
   "cell_type": "markdown",
   "id": "0fc9fb18-7cfd-4ed8-a7e0-91f72ffdc876",
   "metadata": {},
   "source": [
    "## Maximum of two number "
   ]
  },
  {
   "cell_type": "markdown",
   "id": "34973a66-9ffe-4f0b-802a-72ad73aa5d6c",
   "metadata": {},
   "source": [
    "### Using if and else conditional operator "
   ]
  },
  {
   "cell_type": "code",
   "execution_count": 25,
   "id": "bc5ddf96-4ba8-40a7-89ab-1ced3fc238f0",
   "metadata": {},
   "outputs": [
    {
     "name": "stdin",
     "output_type": "stream",
     "text": [
      "enter the first number 23\n",
      "enter the second number 12\n"
     ]
    },
    {
     "name": "stdout",
     "output_type": "stream",
     "text": [
      "23 is greater than 12\n"
     ]
    }
   ],
   "source": [
    "a = int(input(\"enter the first number\"))\n",
    "b = int(input(\"enter the second number\"))\n",
    "if a>b:\n",
    "    print(a,\"is greater than\",b)\n",
    "else:\n",
    "    print(b,\"is greater than\",a)"
   ]
  },
  {
   "cell_type": "markdown",
   "id": "5fc5e477-207a-436e-bf8b-6de2ed141a67",
   "metadata": {},
   "source": [
    "## Using one line of code"
   ]
  },
  {
   "cell_type": "code",
   "execution_count": 26,
   "id": "65f20562-bc76-446d-a965-5206326ff65d",
   "metadata": {},
   "outputs": [
    {
     "name": "stdin",
     "output_type": "stream",
     "text": [
      "enter the first number 32\n",
      "enter the second number 12\n"
     ]
    },
    {
     "name": "stdout",
     "output_type": "stream",
     "text": [
      "Maximum number between a and b is 32\n"
     ]
    }
   ],
   "source": [
    "a = int(input(\"enter the first number\"))\n",
    "b = int(input(\"enter the second number\"))\n",
    "\n",
    "max1 = a if a > b else b\n",
    "print(\"Maximum number between a and b is\",max1)"
   ]
  },
  {
   "cell_type": "markdown",
   "id": "23833d17-e5ea-4995-ba4b-42542636bd92",
   "metadata": {},
   "source": [
    "### Using Function"
   ]
  },
  {
   "cell_type": "code",
   "execution_count": 27,
   "id": "3ff04596-8260-4b43-a0a2-d604cae05a71",
   "metadata": {},
   "outputs": [
    {
     "name": "stdin",
     "output_type": "stream",
     "text": [
      "enter the first number 42\n",
      "enter the second number 21\n"
     ]
    },
    {
     "name": "stdout",
     "output_type": "stream",
     "text": [
      "Maximum number between a and b is 42\n"
     ]
    }
   ],
   "source": [
    "def max_of_num(a,b):\n",
    "    max1 = a if a>b else b\n",
    "    return max1\n",
    "    \n",
    "a = int(input(\"enter the first number\"))\n",
    "b = int(input(\"enter the second number\"))  \n",
    "print(\"Maximum number between a and b is\",max_of_num(a,b))\n",
    "       "
   ]
  },
  {
   "cell_type": "markdown",
   "id": "1239febd-11d2-4511-989b-77b471322347",
   "metadata": {},
   "source": [
    "### Using lambda "
   ]
  },
  {
   "cell_type": "code",
   "execution_count": 28,
   "id": "a1b5bb28-0a94-495c-8183-14825d2efe2f",
   "metadata": {},
   "outputs": [
    {
     "name": "stdin",
     "output_type": "stream",
     "text": [
      "enter the first number 234\n",
      "enter the second number 212\n"
     ]
    },
    {
     "name": "stdout",
     "output_type": "stream",
     "text": [
      "Maximum number between a and b is 234\n"
     ]
    }
   ],
   "source": [
    "max1 = lambda x,y :x if x > y else y \n",
    "\n",
    "x = int(input(\"enter the first number\"))\n",
    "y = int(input(\"enter the second number\")) \n",
    "print(\"Maximum number between a and b is\",max1(x,y))\n"
   ]
  },
  {
   "cell_type": "markdown",
   "id": "df6edcaf-7e9f-46be-b5d4-448b5147eb31",
   "metadata": {},
   "source": [
    "### Using max function"
   ]
  },
  {
   "cell_type": "code",
   "execution_count": 31,
   "id": "9baab13f-7ac1-4160-8378-dca6baf0025c",
   "metadata": {},
   "outputs": [
    {
     "name": "stdin",
     "output_type": "stream",
     "text": [
      "enter the first number 343\n",
      "enter the second number 432\n"
     ]
    },
    {
     "name": "stdout",
     "output_type": "stream",
     "text": [
      "Maximum number between a and b is 432\n"
     ]
    }
   ],
   "source": [
    "x = int(input(\"enter the first number\"))\n",
    "y = int(input(\"enter the second number\"))\n",
    "print(\"Maximum number between a and b is\",max(x,y))\n"
   ]
  },
  {
   "cell_type": "markdown",
   "id": "47efd1eb-35e7-4676-9ce0-776c79801153",
   "metadata": {},
   "source": [
    "### Using library "
   ]
  },
  {
   "cell_type": "code",
   "execution_count": 35,
   "id": "00c7f210-81e3-4297-8389-33a9cc2eeaff",
   "metadata": {},
   "outputs": [
    {
     "name": "stdin",
     "output_type": "stream",
     "text": [
      "enter the first number 232\n",
      "enter the second number 4232\n"
     ]
    },
    {
     "name": "stdout",
     "output_type": "stream",
     "text": [
      "Maximum number between a and b is 4232\n"
     ]
    }
   ],
   "source": [
    "import numpy as np \n",
    "x = int(input(\"enter the first number\"))\n",
    "y = int(input(\"enter the second number\"))\n",
    "print(\"Maximum number between a and b is\",np.maximum(x,y))"
   ]
  },
  {
   "cell_type": "code",
   "execution_count": null,
   "id": "f857e092-3a22-4cbf-86f0-46c92f686f7a",
   "metadata": {},
   "outputs": [],
   "source": []
  }
 ],
 "metadata": {
  "kernelspec": {
   "display_name": "Python 3 (ipykernel)",
   "language": "python",
   "name": "python3"
  },
  "language_info": {
   "codemirror_mode": {
    "name": "ipython",
    "version": 3
   },
   "file_extension": ".py",
   "mimetype": "text/x-python",
   "name": "python",
   "nbconvert_exporter": "python",
   "pygments_lexer": "ipython3",
   "version": "3.12.4"
  }
 },
 "nbformat": 4,
 "nbformat_minor": 5
}
