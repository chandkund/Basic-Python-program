{
 "cells": [
  {
   "cell_type": "code",
   "execution_count": null,
   "id": "000fdca1-d89e-4fb9-8d0d-dbe031e0142f",
   "metadata": {},
   "outputs": [],
   "source": []
  },
  {
   "cell_type": "code",
   "execution_count": 1,
   "id": "a117a75f-3ed5-4b22-8c90-2b9d78a7eb2c",
   "metadata": {},
   "outputs": [
    {
     "name": "stdout",
     "output_type": "stream",
     "text": [
      "Unsorted list is:\n",
      "[39, 12, 18, 85, 72, 10, 2, 18]\n",
      "Sorted list is:\n",
      "[2, 10, 12, 18, 18, 39, 72, 85]\n"
     ]
    }
   ],
   "source": [
    "def bubble_sort(arr):\n",
    "  \n",
    "    for n in range(len(arr) - 1, 0, -1):\n",
    "        \n",
    "        swapped = False  \n",
    "\n",
    "        for i in range(n):\n",
    "            if arr[i] > arr[i + 1]:\n",
    "              \n",
    "                arr[i], arr[i + 1] = arr[i + 1], arr[i]\n",
    "                \n",
    "                swapped = True\n",
    "        \n",
    "        if not swapped:\n",
    "            break\n",
    "\n",
    "\n",
    "arr = [39, 12, 18, 85, 72, 10, 2, 18]\n",
    "print(\"Unsorted list is:\")\n",
    "print(arr)\n",
    "\n",
    "bubble_sort(arr)\n",
    "\n",
    "print(\"Sorted list is:\")\n",
    "print(arr)"
   ]
  },
  {
   "cell_type": "code",
   "execution_count": null,
   "id": "3fde91e6-5b70-4cec-8a1a-48205c916e44",
   "metadata": {},
   "outputs": [],
   "source": []
  }
 ],
 "metadata": {
  "kernelspec": {
   "display_name": "Python 3 (ipykernel)",
   "language": "python",
   "name": "python3"
  },
  "language_info": {
   "codemirror_mode": {
    "name": "ipython",
    "version": 3
   },
   "file_extension": ".py",
   "mimetype": "text/x-python",
   "name": "python",
   "nbconvert_exporter": "python",
   "pygments_lexer": "ipython3",
   "version": "3.12.4"
  }
 },
 "nbformat": 4,
 "nbformat_minor": 5
}
