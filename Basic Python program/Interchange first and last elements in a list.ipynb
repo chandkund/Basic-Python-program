{
 "cells": [
  {
   "cell_type": "markdown",
   "id": "a3b4b86c-249f-403e-b02f-c6a9fe418358",
   "metadata": {},
   "source": [
    "### Interchange first and last elements in a list"
   ]
  },
  {
   "cell_type": "code",
   "execution_count": null,
   "id": "a4278ed6-26cd-4fd5-a4ae-e1673a989762",
   "metadata": {},
   "outputs": [],
   "source": [
    "def swapList(newList):\n",
    "    size = len(newList)\n",
    "    \n",
    "    temp = newList[0]\n",
    "    newList[0] = newList[size - 1]\n",
    "    newList[size - 1] = temp\n",
    "    \n",
    "    return newList\n",
    "    \n",
    "newList = [12, 35, 9, 56, 24]\n",
    "\n",
    "print(swapList(newList))"
   ]
  },
  {
   "cell_type": "code",
   "execution_count": null,
   "id": "9eac128d-6cd7-46e8-aa12-eb4679c6a4c5",
   "metadata": {},
   "outputs": [],
   "source": []
  },
  {
   "cell_type": "code",
   "execution_count": 1,
   "id": "f7425e74-b3bb-45f8-a854-81a1186265aa",
   "metadata": {},
   "outputs": [
    {
     "name": "stdout",
     "output_type": "stream",
     "text": [
      "[24, 35, 9, 56, 12]\n"
     ]
    }
   ],
   "source": [
    "def swapList(list):\n",
    "    \n",
    "    \n",
    "    get = list[-1], list[0]\n",
    "    \n",
    "    list[0], list[-1] = get\n",
    "    \n",
    "    return list\n",
    "    \n",
    "newList = [12, 35, 9, 56, 24]\n",
    "print(swapList(newList))"
   ]
  },
  {
   "cell_type": "code",
   "execution_count": null,
   "id": "b165fb1b-9c5c-484d-a523-831351ab886a",
   "metadata": {},
   "outputs": [],
   "source": []
  },
  {
   "cell_type": "code",
   "execution_count": null,
   "id": "c8714e25-5e6a-4eaa-8c76-322094879ab1",
   "metadata": {},
   "outputs": [],
   "source": []
  },
  {
   "cell_type": "code",
   "execution_count": null,
   "id": "319783cf-5eeb-4b2d-9425-873ebb812a58",
   "metadata": {},
   "outputs": [],
   "source": []
  }
 ],
 "metadata": {
  "kernelspec": {
   "display_name": "Python 3 (ipykernel)",
   "language": "python",
   "name": "python3"
  },
  "language_info": {
   "codemirror_mode": {
    "name": "ipython",
    "version": 3
   },
   "file_extension": ".py",
   "mimetype": "text/x-python",
   "name": "python",
   "nbconvert_exporter": "python",
   "pygments_lexer": "ipython3",
   "version": "3.12.4"
  }
 },
 "nbformat": 4,
 "nbformat_minor": 5
}
