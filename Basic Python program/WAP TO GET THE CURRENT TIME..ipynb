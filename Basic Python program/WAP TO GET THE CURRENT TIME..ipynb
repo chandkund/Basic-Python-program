{
 "cells": [
  {
   "cell_type": "code",
   "execution_count": null,
   "id": "bc3ecc50-fad5-4767-9666-eb25b8276129",
   "metadata": {},
   "outputs": [],
   "source": [
    "\n"
   ]
  },
  {
   "cell_type": "code",
   "execution_count": 3,
   "id": "e9e28298-3d66-493f-999c-b3cd7b443fa5",
   "metadata": {},
   "outputs": [
    {
     "name": "stdout",
     "output_type": "stream",
     "text": [
      "Current Time = 22:35:32\n"
     ]
    }
   ],
   "source": [
    "from datetime import datetime\n",
    "\n",
    "\n",
    "now = datetime.now()\n",
    "\n",
    "\n",
    "currentTime = now.strftime(\"%H:%M:%S\")\n",
    "print(\"Current Time =\", currentTime)"
   ]
  },
  {
   "cell_type": "code",
   "execution_count": null,
   "id": "9e979ef3-fa26-419b-93b5-81fc5a50b522",
   "metadata": {},
   "outputs": [],
   "source": [
    "import time\n",
    "\n",
    "\n",
    "t = time.localtime()\n",
    "\n",
    "currentTime = t.strftime(\"%H:%M:%S\", t)\n",
    "print(currentTime)"
   ]
  }
 ],
 "metadata": {
  "kernelspec": {
   "display_name": "Python 3 (ipykernel)",
   "language": "python",
   "name": "python3"
  },
  "language_info": {
   "codemirror_mode": {
    "name": "ipython",
    "version": 3
   },
   "file_extension": ".py",
   "mimetype": "text/x-python",
   "name": "python",
   "nbconvert_exporter": "python",
   "pygments_lexer": "ipython3",
   "version": "3.12.4"
  }
 },
 "nbformat": 4,
 "nbformat_minor": 5
}
