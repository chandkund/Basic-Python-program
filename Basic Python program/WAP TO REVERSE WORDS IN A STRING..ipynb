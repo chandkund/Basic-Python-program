{
 "cells": [
  {
   "cell_type": "code",
   "execution_count": null,
   "id": "a18f48f7-598a-4a4b-90be-8cb2da76c798",
   "metadata": {},
   "outputs": [],
   "source": []
  },
  {
   "cell_type": "code",
   "execution_count": 3,
   "id": "7b531bfe-097a-436f-ac73-661ab7df5e2c",
   "metadata": {},
   "outputs": [
    {
     "name": "stdout",
     "output_type": "stream",
     "text": [
      "chandan for Geeks\n"
     ]
    }
   ],
   "source": [
    "# Input string\n",
    "s = \"Geeks for chandan\"\n",
    "\n",
    "reversed_words = ' '.join(s.split()[-1::-1])\n",
    "\n",
    "print(reversed_words)\n",
    "\n",
    "\n"
   ]
  },
  {
   "cell_type": "code",
   "execution_count": 16,
   "id": "64bfe63b-2e94-463c-95b7-6baf193d1480",
   "metadata": {},
   "outputs": [
    {
     "name": "stdout",
     "output_type": "stream",
     "text": [
      "kumar chandan\n"
     ]
    }
   ],
   "source": [
    "s =\"chandan kumar\"\n",
    "print(' '.join(s.split()[-1::-1]))"
   ]
  },
  {
   "cell_type": "code",
   "execution_count": null,
   "id": "b3dbb77b-93df-4be8-8f64-9d722c8d21f8",
   "metadata": {},
   "outputs": [],
   "source": []
  },
  {
   "cell_type": "code",
   "execution_count": 19,
   "id": "ddfdf2f8-8db2-46b1-8411-b402f0e4dc91",
   "metadata": {},
   "outputs": [
    {
     "name": "stdout",
     "output_type": "stream",
     "text": [
      "Kumar Chandan\n"
     ]
    }
   ],
   "source": [
    "s = \"Chandan Kumar\"\n",
    "\n",
    "words = s.split()\n",
    "\n",
    "reversed_words = \"\"\n",
    "\n",
    "\n",
    "for word in reversed(words):\n",
    "    reversed_words += word + \" \"\n",
    "\n",
    "reversed_words = reversed_words.strip()\n",
    "\n",
    "print(reversed_words)"
   ]
  },
  {
   "cell_type": "code",
   "execution_count": null,
   "id": "efc8a555-f8d0-412a-a656-32bd60e0bb6e",
   "metadata": {},
   "outputs": [],
   "source": []
  },
  {
   "cell_type": "code",
   "execution_count": null,
   "id": "e696d1d8-cc64-41ae-9d14-f228b9b06a9e",
   "metadata": {},
   "outputs": [],
   "source": []
  },
  {
   "cell_type": "code",
   "execution_count": null,
   "id": "20830614-b54b-45a0-a613-5ee27f5a8c07",
   "metadata": {},
   "outputs": [],
   "source": []
  },
  {
   "cell_type": "code",
   "execution_count": null,
   "id": "30ea4897-c92e-4fe8-892f-9cbc354b1b63",
   "metadata": {},
   "outputs": [],
   "source": []
  },
  {
   "cell_type": "code",
   "execution_count": null,
   "id": "d4b4f104-f1db-499f-a245-59e7c29ae223",
   "metadata": {},
   "outputs": [],
   "source": []
  },
  {
   "cell_type": "code",
   "execution_count": null,
   "id": "da2dee62-70ea-4b1c-93c9-b25f457a4276",
   "metadata": {},
   "outputs": [],
   "source": []
  },
  {
   "cell_type": "code",
   "execution_count": null,
   "id": "b7d3564c-b8da-4228-8afd-e237a4b235cf",
   "metadata": {},
   "outputs": [],
   "source": []
  },
  {
   "cell_type": "code",
   "execution_count": null,
   "id": "29c0468b-a75c-4b47-8868-7fed62935273",
   "metadata": {},
   "outputs": [],
   "source": []
  },
  {
   "cell_type": "code",
   "execution_count": null,
   "id": "180a4cd5-88e6-4813-9d38-87fa1e4f3271",
   "metadata": {},
   "outputs": [],
   "source": []
  },
  {
   "cell_type": "code",
   "execution_count": null,
   "id": "71ad58b7-d2c9-4e0d-8b70-7278a6d209cf",
   "metadata": {},
   "outputs": [],
   "source": []
  },
  {
   "cell_type": "code",
   "execution_count": null,
   "id": "823bf0b8-ebe0-435f-982f-76b665dbc526",
   "metadata": {},
   "outputs": [],
   "source": []
  },
  {
   "cell_type": "code",
   "execution_count": null,
   "id": "d293e350-17fe-4686-870f-5209ffc2ef35",
   "metadata": {},
   "outputs": [],
   "source": []
  },
  {
   "cell_type": "code",
   "execution_count": null,
   "id": "bae7c8d8-e251-4143-9fa3-b469c4ce31de",
   "metadata": {},
   "outputs": [],
   "source": []
  },
  {
   "cell_type": "code",
   "execution_count": null,
   "id": "d6a15bf2-3331-45da-90c8-49ede4e83c30",
   "metadata": {},
   "outputs": [],
   "source": []
  }
 ],
 "metadata": {
  "kernelspec": {
   "display_name": "Python 3 (ipykernel)",
   "language": "python",
   "name": "python3"
  },
  "language_info": {
   "codemirror_mode": {
    "name": "ipython",
    "version": 3
   },
   "file_extension": ".py",
   "mimetype": "text/x-python",
   "name": "python",
   "nbconvert_exporter": "python",
   "pygments_lexer": "ipython3",
   "version": "3.12.4"
  }
 },
 "nbformat": 4,
 "nbformat_minor": 5
}
