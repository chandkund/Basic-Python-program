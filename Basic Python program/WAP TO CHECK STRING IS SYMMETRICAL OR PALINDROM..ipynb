{
 "cells": [
  {
   "cell_type": "code",
   "execution_count": null,
   "id": "9b43cbed-ccf0-43e6-a601-bd8c70ffdfb1",
   "metadata": {},
   "outputs": [],
   "source": []
  },
  {
   "cell_type": "code",
   "execution_count": null,
   "id": "97fe4fca-47ad-4163-80ec-b760cdcabbe6",
   "metadata": {},
   "outputs": [],
   "source": []
  },
  {
   "cell_type": "code",
   "execution_count": null,
   "id": "4e803fc6-66e5-4af5-9a98-950a3e60fd17",
   "metadata": {},
   "outputs": [],
   "source": [
    "def palindrome(s):\n",
    "    return s == s[::-1]\n",
    "\n",
    "def is_symmetrical(s):\n",
    "    length = len(s)\n",
    "    mid = length // 2\n",
    "    if length % 2 == 0:\n",
    "        return s[:mid] == s[mid:]\n",
    "    else:\n",
    "        return s[:mid] == s[mid+1:]\n",
    "\n",
    "s = \"amaama\"\n",
    "if symmetrical(s):\n",
    "    print(\"Symmetrical\")\n",
    "else:\n",
    "    print(\"Not Symmetrical\")\n",
    "\n",
    "if palindrome(s):\n",
    "    print(\"Palindrome\")\n",
    "else:\n",
    "    print(\"Not Palindrome\")\n"
   ]
  },
  {
   "cell_type": "code",
   "execution_count": null,
   "id": "ddfa598c-a8f3-4813-be35-55227b63ccdc",
   "metadata": {},
   "outputs": [],
   "source": []
  },
  {
   "cell_type": "code",
   "execution_count": null,
   "id": "c19f823a-652b-404e-ab0b-cc79812e8bd6",
   "metadata": {},
   "outputs": [],
   "source": [
    "s = 'amaama'\n",
    "half = len(s) // 2\n",
    "s1 = s[:half]\n",
    "s2 = s[half:] if len(s) % 2 == 0 else s[half + 1:]\n",
    "\n",
    "if s1 == s2:\n",
    "    print(f\"{s} is symmetrical\")\n",
    "else:\n",
    "    print(f\"{s} is not symmetrical\")"
   ]
  },
  {
   "cell_type": "code",
   "execution_count": null,
   "id": "04bb4cd5-53d7-44eb-94b3-6aaa55befa87",
   "metadata": {},
   "outputs": [],
   "source": []
  },
  {
   "cell_type": "code",
   "execution_count": null,
   "id": "c6b2ab6e-c17a-40b0-9e40-85089c29bc68",
   "metadata": {},
   "outputs": [],
   "source": []
  },
  {
   "cell_type": "code",
   "execution_count": null,
   "id": "58a1dfc4-e83a-4811-ba10-ad7456b7a160",
   "metadata": {},
   "outputs": [],
   "source": []
  }
 ],
 "metadata": {
  "kernelspec": {
   "display_name": "Python 3 (ipykernel)",
   "language": "python",
   "name": "python3"
  },
  "language_info": {
   "codemirror_mode": {
    "name": "ipython",
    "version": 3
   },
   "file_extension": ".py",
   "mimetype": "text/x-python",
   "name": "python",
   "nbconvert_exporter": "python",
   "pygments_lexer": "ipython3",
   "version": "3.12.4"
  }
 },
 "nbformat": 4,
 "nbformat_minor": 5
}
