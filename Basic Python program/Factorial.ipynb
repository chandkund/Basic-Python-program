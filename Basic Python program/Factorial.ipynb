{
 "cells": [
  {
   "cell_type": "markdown",
   "id": "68f3d5a0-1108-48ed-8db7-a6f43dd88973",
   "metadata": {},
   "source": [
    "## Factorial of a number"
   ]
  },
  {
   "cell_type": "markdown",
   "id": "6217ccca-1c1b-4924-8274-4f06f1930cf8",
   "metadata": {},
   "source": [
    "### Using Function "
   ]
  },
  {
   "cell_type": "code",
   "execution_count": 13,
   "id": "9ed5c436-ef9e-47f1-aba1-eff12a286ff4",
   "metadata": {},
   "outputs": [
    {
     "name": "stdin",
     "output_type": "stream",
     "text": [
      "Enter the number 12\n"
     ]
    },
    {
     "name": "stdout",
     "output_type": "stream",
     "text": [
      "Factorical of number is 479001600\n"
     ]
    }
   ],
   "source": [
    "def factorial(n):\n",
    "    fact = 1\n",
    "    if n == 0 or n == 1:\n",
    "        return 1\n",
    "    else:\n",
    "        for i in range(1,n+1):\n",
    "            fact = fact*i\n",
    "    return fact\n",
    "\n",
    "num = int(input(\"Enter the number\"))\n",
    "print(\"Factorial of number is\",factorical(num))        "
   ]
  },
  {
   "cell_type": "markdown",
   "id": "98f64f70-855c-4d5f-a643-c56a1596e657",
   "metadata": {},
   "source": [
    "### Using Recursion "
   ]
  },
  {
   "cell_type": "code",
   "execution_count": 7,
   "id": "fcbc3080-e610-4ebd-880d-a2de3300f3cf",
   "metadata": {},
   "outputs": [
    {
     "name": "stdin",
     "output_type": "stream",
     "text": [
      "Enter the number 5\n"
     ]
    },
    {
     "name": "stdout",
     "output_type": "stream",
     "text": [
      "Factorical of number is 120\n"
     ]
    }
   ],
   "source": [
    "def factorial(n):\n",
    "    if n == 0 or n == 1:\n",
    "        return 1\n",
    "    else:\n",
    "        return (n*factorical(n-1))\n",
    "num = int(input(\"Enter the number\"))\n",
    "print(\"Factorial of number is\",factorial(num))  "
   ]
  },
  {
   "cell_type": "markdown",
   "id": "85657ee5-494b-45d5-93b7-d3bd01a909ff",
   "metadata": {},
   "source": [
    "### Using library "
   ]
  },
  {
   "cell_type": "code",
   "execution_count": 14,
   "id": "8803d55c-88ca-41b4-b8d1-bf2d434d459a",
   "metadata": {},
   "outputs": [
    {
     "name": "stdout",
     "output_type": "stream",
     "text": [
      "120\n"
     ]
    }
   ],
   "source": [
    "from  math import factorial\n",
    "import math \n",
    "print(math.factorial(5))"
   ]
  },
  {
   "cell_type": "markdown",
   "id": "703bb848-9af9-49ff-88d1-cee6cb6caa0d",
   "metadata": {},
   "source": [
    "### Using Ternary operator"
   ]
  },
  {
   "cell_type": "code",
   "execution_count": 15,
   "id": "581fe137-f63e-40f2-a9e3-8909f1ca7d9a",
   "metadata": {},
   "outputs": [
    {
     "name": "stdin",
     "output_type": "stream",
     "text": [
      "Enter the number 5\n"
     ]
    },
    {
     "name": "stdout",
     "output_type": "stream",
     "text": [
      "Factorial of number is 120\n"
     ]
    }
   ],
   "source": [
    "def factorial(n):\n",
    "    return 1 if n == 1 or n== 0 else n*factorial(n-1)\n",
    "\n",
    "num = int(input(\"Enter the number\"))\n",
    "print(\"Factorial of number is\",factorical(num))        "
   ]
  },
  {
   "cell_type": "markdown",
   "id": "1397685e-f68e-4517-8532-6aa11edac5b3",
   "metadata": {},
   "source": [
    "### Using Numpy "
   ]
  },
  {
   "cell_type": "code",
   "execution_count": 25,
   "id": "c02792f0-d269-4e6b-9aef-710747150981",
   "metadata": {},
   "outputs": [
    {
     "name": "stdin",
     "output_type": "stream",
     "text": [
      "Enter the number 5\n"
     ]
    },
    {
     "name": "stdout",
     "output_type": "stream",
     "text": [
      "Factorial of number is 120\n"
     ]
    }
   ],
   "source": [
    "import numpy as np\n",
    "num = int(input(\"Enter the number\"))\n",
    "fact = np.prod([ i for i in range(1,num+1)])\n",
    "print(\"Factorial of number is\",fact )      "
   ]
  },
  {
   "cell_type": "markdown",
   "id": "c5b5b6f8-c461-4822-b3a9-76eb7e5af636",
   "metadata": {},
   "source": [
    "### Using Prime_factorization method "
   ]
  },
  {
   "cell_type": "code",
   "execution_count": 37,
   "id": "7d9400d4-7962-4669-a309-221c10e1d065",
   "metadata": {},
   "outputs": [
    {
     "name": "stdout",
     "output_type": "stream",
     "text": [
      "[2, 3, 3]\n"
     ]
    }
   ],
   "source": [
    "def prime_factorization(n):  \n",
    "    fact = []\n",
    "    for i in range(2,n): \n",
    "        if n%i == 0:\n",
    "            while n>0:\n",
    "                if n%i == 0:\n",
    "                    fact.append(i)\n",
    "                    n = n//i\n",
    "                else:\n",
    "                    break\n",
    "    return fact\n",
    "    \n",
    "print(prime_factorization(18))         "
   ]
  },
  {
   "cell_type": "code",
   "execution_count": null,
   "id": "2b442792-1563-4c66-805a-78e615be2af6",
   "metadata": {},
   "outputs": [],
   "source": []
  }
 ],
 "metadata": {
  "kernelspec": {
   "display_name": "Python 3 (ipykernel)",
   "language": "python",
   "name": "python3"
  },
  "language_info": {
   "codemirror_mode": {
    "name": "ipython",
    "version": 3
   },
   "file_extension": ".py",
   "mimetype": "text/x-python",
   "name": "python",
   "nbconvert_exporter": "python",
   "pygments_lexer": "ipython3",
   "version": "3.12.4"
  }
 },
 "nbformat": 4,
 "nbformat_minor": 5
}
