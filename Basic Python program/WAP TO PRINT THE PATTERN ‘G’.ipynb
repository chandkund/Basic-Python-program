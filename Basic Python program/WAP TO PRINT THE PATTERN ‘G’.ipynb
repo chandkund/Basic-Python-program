{
 "cells": [
  {
   "cell_type": "code",
   "execution_count": null,
   "id": "d61c6781-0d4d-46bb-a754-3ea81b9d3f09",
   "metadata": {},
   "outputs": [],
   "source": []
  },
  {
   "cell_type": "code",
   "execution_count": 1,
   "id": "bb38cc32-9620-4329-95ba-253f10bad350",
   "metadata": {},
   "outputs": [
    {
     "name": "stdout",
     "output_type": "stream",
     "text": [
      "  ***  \n",
      " *     \n",
      " *     \n",
      " * *** \n",
      " *   * \n",
      " *   * \n",
      "  ***  \n",
      "\n"
     ]
    }
   ],
   "source": [
    "def Pattern(line): \n",
    "\tpat=\"\" \n",
    "\tfor i in range(0,line):\t \n",
    "\t\tfor j in range(0,line):\t \n",
    "\t\t\tif ((j == 1 and i != 0 and i != line-1) or ((i == 0 or\n",
    "\t\t\t\ti == line-1) and j > 1 and j < line-2) or (i == ((line-1)/2) \n",
    "\t\t\t\tand j > line-5 and j < line-1) or (j == line-2 and\n",
    "\t\t\t\ti != 0 and i != line-1 and i >=((line-1)/2))): \n",
    "\t\t\t\tpat=pat+\"*\"\n",
    "\t\t\telse:\t \n",
    "\t\t\t\tpat=pat+\" \"\n",
    "\t\tpat=pat+\"\\n\"\n",
    "\treturn pat \n",
    "\n",
    "line = 7\n",
    "print(Pattern(line)) \n"
   ]
  },
  {
   "cell_type": "code",
   "execution_count": null,
   "id": "52878b9d-76a7-4119-b54f-d89dd628bb0c",
   "metadata": {},
   "outputs": [],
   "source": []
  }
 ],
 "metadata": {
  "kernelspec": {
   "display_name": "Python 3 (ipykernel)",
   "language": "python",
   "name": "python3"
  },
  "language_info": {
   "codemirror_mode": {
    "name": "ipython",
    "version": 3
   },
   "file_extension": ".py",
   "mimetype": "text/x-python",
   "name": "python",
   "nbconvert_exporter": "python",
   "pygments_lexer": "ipython3",
   "version": "3.12.4"
  }
 },
 "nbformat": 4,
 "nbformat_minor": 5
}
