{
 "cells": [
  {
   "cell_type": "markdown",
   "id": "4208a316-a615-4690-81c4-9e6d24041d12",
   "metadata": {},
   "source": [
    "## Using While loop"
   ]
  },
  {
   "cell_type": "code",
   "execution_count": 43,
   "id": "792b011a-7826-43e1-a954-018095985967",
   "metadata": {},
   "outputs": [
    {
     "name": "stdout",
     "output_type": "stream",
     "text": [
      "9\n"
     ]
    }
   ],
   "source": [
    "# 3rd multiple of 2 in Fibonacci Series is 34 that appears at position 9.\n",
    "\n",
    "def fibonacci_series(n,p):\n",
    "    a = 0\n",
    "    b = 1\n",
    "    i = 2\n",
    "    while i!=0:\n",
    "        c = a+b\n",
    "        a= b\n",
    "        b = c\n",
    "        \n",
    "        if b%p == 0:\n",
    "            return n*i\n",
    "            \n",
    "        i = i+1\n",
    "    return\n",
    "# k = 2\n",
    "# n = 3\n",
    "print(fibonacci_series(3,2))"
   ]
  },
  {
   "cell_type": "markdown",
   "id": "6391f931-dc53-4e15-b4ad-30c95cc54296",
   "metadata": {},
   "source": [
    "## Method: Iterative approach"
   ]
  },
  {
   "cell_type": "code",
   "execution_count": 46,
   "id": "d5df35c4-a7b8-41ae-b4a2-bf00b06c2e63",
   "metadata": {},
   "outputs": [
    {
     "name": "stdout",
     "output_type": "stream",
     "text": [
      "9\n"
     ]
    }
   ],
   "source": [
    "def fibonacci_series(n, k):\n",
    "    f = [0,1]\n",
    "    c = 0\n",
    "    for i in range(2, 10000):\n",
    "        cu = f[i-1] + f[i-2]\n",
    "        if cu % k == 0:\n",
    "            c += 1\n",
    "            if c == n:\n",
    "                return i\n",
    "        f.append(cu)\n",
    "        \n",
    "# Example usage\n",
    "print(nth_fib_multiple(3, 2)) # Output: 9"
   ]
  },
  {
   "cell_type": "code",
   "execution_count": null,
   "id": "84bd5cce-c7b4-491e-95ab-761a38e3822b",
   "metadata": {},
   "outputs": [],
   "source": []
  }
 ],
 "metadata": {
  "kernelspec": {
   "display_name": "Python 3 (ipykernel)",
   "language": "python",
   "name": "python3"
  },
  "language_info": {
   "codemirror_mode": {
    "name": "ipython",
    "version": 3
   },
   "file_extension": ".py",
   "mimetype": "text/x-python",
   "name": "python",
   "nbconvert_exporter": "python",
   "pygments_lexer": "ipython3",
   "version": "3.12.4"
  }
 },
 "nbformat": 4,
 "nbformat_minor": 5
}
