{
 "cells": [
  {
   "cell_type": "code",
   "execution_count": 1,
   "id": "c7adcdad-fa11-45a1-ae8d-3c12e1d15729",
   "metadata": {},
   "outputs": [
    {
     "name": "stdout",
     "output_type": "stream",
     "text": [
      "20:05:45\n"
     ]
    }
   ],
   "source": [
    "def convert24(str1): \n",
    "    \n",
    "\n",
    "    if str1[-2:] == \"AM\" and str1[:2] == \"12\": \n",
    "        return \"00\" + str1[2:-2] \n",
    "        \n",
    "    elif str1[-2:] == \"AM\": \n",
    "        return str1[:-2] \n",
    "    \n",
    "    elif str1[-2:] == \"PM\" and str1[:2] == \"12\": \n",
    "        return str1[:-2] \n",
    "        \n",
    "    else: \n",
    "        \n",
    "        return str(int(str1[:2]) + 12) + str1[2:8] \n",
    "\n",
    "print(convert24(\"08:05:45 PM\"))"
   ]
  },
  {
   "cell_type": "code",
   "execution_count": 2,
   "id": "6fc34a84-d8af-48ad-87a9-b0efb2d48b34",
   "metadata": {},
   "outputs": [
    {
     "name": "stdout",
     "output_type": "stream",
     "text": [
      "23:21:30\n",
      "00:12:20\n"
     ]
    }
   ],
   "source": [
    "from datetime import datetime\n",
    "\n",
    "def convert24(time):\n",
    "    t = datetime.strptime(time, '%I:%M:%S %p')\n",
    "    return t.strftime('%H:%M:%S')\n",
    "\n",
    "print(convert24('11:21:30 PM'))  \n",
    "print(convert24('12:12:20 AM'))"
   ]
  },
  {
   "cell_type": "code",
   "execution_count": null,
   "id": "970e8ede-7a70-4c3e-aec1-18be05db5f41",
   "metadata": {},
   "outputs": [],
   "source": []
  },
  {
   "cell_type": "code",
   "execution_count": null,
   "id": "72ade81f-56e3-432b-a33c-49c431bda525",
   "metadata": {},
   "outputs": [],
   "source": []
  }
 ],
 "metadata": {
  "kernelspec": {
   "display_name": "Python 3 (ipykernel)",
   "language": "python",
   "name": "python3"
  },
  "language_info": {
   "codemirror_mode": {
    "name": "ipython",
    "version": 3
   },
   "file_extension": ".py",
   "mimetype": "text/x-python",
   "name": "python",
   "nbconvert_exporter": "python",
   "pygments_lexer": "ipython3",
   "version": "3.12.4"
  }
 },
 "nbformat": 4,
 "nbformat_minor": 5
}
