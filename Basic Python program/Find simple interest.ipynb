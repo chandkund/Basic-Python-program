{
 "cells": [
  {
   "cell_type": "markdown",
   "id": "52ce9ae5-9ca0-465b-8d9c-097b4b2e96df",
   "metadata": {},
   "source": [
    "## Find simple interest"
   ]
  },
  {
   "cell_type": "markdown",
   "id": "6daf9f2c-6377-49d8-a899-bf9582326cc9",
   "metadata": {},
   "source": [
    "### Using operator "
   ]
  },
  {
   "cell_type": "code",
   "execution_count": 4,
   "id": "194e8580-d504-44d6-bc8c-a2789ab9c567",
   "metadata": {},
   "outputs": [
    {
     "name": "stdout",
     "output_type": "stream",
     "text": [
      "10879.6\n"
     ]
    }
   ],
   "source": [
    "rate  = 10\n",
    "principle= 54398\n",
    "time = 2\n",
    "simple_interest = (principle * rate * time )/100\n",
    "print(simple_interest)"
   ]
  },
  {
   "cell_type": "markdown",
   "id": "53288376-fe3f-409b-998c-443a6563849c",
   "metadata": {},
   "source": [
    "### Taking input from user's"
   ]
  },
  {
   "cell_type": "code",
   "execution_count": 6,
   "id": "c8c3de05-5717-43d3-9379-cdb51d835e15",
   "metadata": {},
   "outputs": [
    {
     "name": "stdin",
     "output_type": "stream",
     "text": [
      "Enter the rate 10\n",
      "Enter principle amount 54398\n",
      "Enter the time 2\n"
     ]
    },
    {
     "name": "stdout",
     "output_type": "stream",
     "text": [
      "10879.6\n"
     ]
    }
   ],
   "source": [
    "rate  = int(input(\"Enter the rate\"))\n",
    "principle= float(input(\"Enter principle amount\"))\n",
    "time = int(input(\"Enter the time\"))\n",
    "simple_interest = (principle * rate * time )/100\n",
    "print(simple_interest)"
   ]
  },
  {
   "cell_type": "markdown",
   "id": "517e41ad-4a80-40ad-aba0-26d3fd7c4b19",
   "metadata": {},
   "source": [
    "### Using function "
   ]
  },
  {
   "cell_type": "code",
   "execution_count": 9,
   "id": "4efffa0a-1f03-4caa-ac05-375e6d4a5387",
   "metadata": {},
   "outputs": [
    {
     "name": "stdin",
     "output_type": "stream",
     "text": [
      "Enter the rate 10\n",
      "Enter principle amount 54398\n",
      "Enter the time 2\n"
     ]
    },
    {
     "name": "stdout",
     "output_type": "stream",
     "text": [
      "10879.6\n"
     ]
    }
   ],
   "source": [
    "def simple_interest(r,t,p):\n",
    "  return (r*t*p)/100\n",
    "rate  = int(input(\"Enter the rate\"))\n",
    "principle= float(input(\"Enter principle amount\"))\n",
    "time = int(input(\"Enter the time\"))\n",
    "print(simple_interest(rate,time,principle))"
   ]
  },
  {
   "cell_type": "code",
   "execution_count": null,
   "id": "5c3cc017-5526-41d3-b11e-e99e4cb3041e",
   "metadata": {},
   "outputs": [],
   "source": []
  },
  {
   "cell_type": "code",
   "execution_count": null,
   "id": "53587732-379d-49d3-8775-e5074f25a220",
   "metadata": {},
   "outputs": [],
   "source": []
  },
  {
   "cell_type": "code",
   "execution_count": null,
   "id": "30690a3c-2caf-4bb9-9668-dbc52621e8df",
   "metadata": {},
   "outputs": [],
   "source": []
  },
  {
   "cell_type": "code",
   "execution_count": null,
   "id": "c16be846-2c1b-4a08-9e61-22d5c7faf0b6",
   "metadata": {},
   "outputs": [],
   "source": []
  },
  {
   "cell_type": "code",
   "execution_count": null,
   "id": "fe1ff0ce-932b-4574-b461-56bf211d6e5d",
   "metadata": {},
   "outputs": [],
   "source": []
  },
  {
   "cell_type": "code",
   "execution_count": null,
   "id": "5b9046af-664c-4a3d-bbe9-378b8953b4f0",
   "metadata": {},
   "outputs": [],
   "source": []
  },
  {
   "cell_type": "code",
   "execution_count": null,
   "id": "9bfd9f8c-3cf2-48bc-8855-6da4666911b0",
   "metadata": {},
   "outputs": [],
   "source": []
  },
  {
   "cell_type": "code",
   "execution_count": null,
   "id": "0ac78f75-2dbf-4401-93ee-80d01ebf5eeb",
   "metadata": {},
   "outputs": [],
   "source": []
  },
  {
   "cell_type": "code",
   "execution_count": null,
   "id": "face49a3-96bc-4852-bf6c-02e4ef135342",
   "metadata": {},
   "outputs": [],
   "source": []
  },
  {
   "cell_type": "code",
   "execution_count": null,
   "id": "373142bc-d39b-46ad-ab90-7f99ef6ad0d9",
   "metadata": {},
   "outputs": [],
   "source": []
  },
  {
   "cell_type": "code",
   "execution_count": null,
   "id": "bd5920f0-ddce-40e7-be51-af18a12ce118",
   "metadata": {},
   "outputs": [],
   "source": []
  },
  {
   "cell_type": "code",
   "execution_count": null,
   "id": "f45eca66-8932-4d96-bf53-037db7cc18a9",
   "metadata": {},
   "outputs": [],
   "source": []
  },
  {
   "cell_type": "code",
   "execution_count": null,
   "id": "9d5dcf43-a516-4b8f-af34-b746f918aceb",
   "metadata": {},
   "outputs": [],
   "source": []
  },
  {
   "cell_type": "code",
   "execution_count": null,
   "id": "35b1a91d-2a84-4e38-99d9-f4d5c8f7316a",
   "metadata": {},
   "outputs": [],
   "source": []
  },
  {
   "cell_type": "code",
   "execution_count": null,
   "id": "914207f3-9642-4c10-a964-cc85b6d135fd",
   "metadata": {},
   "outputs": [],
   "source": []
  },
  {
   "cell_type": "code",
   "execution_count": null,
   "id": "4f539eea-92af-44f5-956e-785375a10ca9",
   "metadata": {},
   "outputs": [],
   "source": []
  }
 ],
 "metadata": {
  "kernelspec": {
   "display_name": "Python 3 (ipykernel)",
   "language": "python",
   "name": "python3"
  },
  "language_info": {
   "codemirror_mode": {
    "name": "ipython",
    "version": 3
   },
   "file_extension": ".py",
   "mimetype": "text/x-python",
   "name": "python",
   "nbconvert_exporter": "python",
   "pygments_lexer": "ipython3",
   "version": "3.12.4"
  }
 },
 "nbformat": 4,
 "nbformat_minor": 5
}
