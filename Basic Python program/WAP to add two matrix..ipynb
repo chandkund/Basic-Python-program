{
 "cells": [
  {
   "cell_type": "markdown",
   "id": "5dc909e9-de9b-4364-a861-97812f6db259",
   "metadata": {},
   "source": [
    "## WAP to add two matrix."
   ]
  },
  {
   "cell_type": "markdown",
   "id": "298ca560-d38f-48b0-8e4a-32ac1c3718aa",
   "metadata": {},
   "source": [
    "### Using for loop"
   ]
  },
  {
   "cell_type": "code",
   "execution_count": 5,
   "id": "92af867f-3b31-45a7-b551-20e3fcaad1c8",
   "metadata": {},
   "outputs": [
    {
     "name": "stdout",
     "output_type": "stream",
     "text": [
      "[4, 7, 9]\n",
      "[4, 11, 15]\n",
      "[8, 12, 15]\n"
     ]
    }
   ],
   "source": [
    "X = [[1,2,3],\n",
    "    [2,5,6],\n",
    "     [5,6,7]]\n",
    "y = [[3,5,6],\n",
    "     [2,6,9],\n",
    "     [3,6,8]]\n",
    "r= [[0, 0, 0],\n",
    "          [0, 0, 0],\n",
    "          [0, 0, 0]]\n",
    "\n",
    "for i in range(len(X)):\n",
    "    for j in range(len(X[0])):\n",
    "        r[i][j] = X[i][j]+y[i][j]\n",
    "\n",
    "for i in r:\n",
    "    print(i)"
   ]
  },
  {
   "cell_type": "markdown",
   "id": "a4918655-9ba2-43e3-9eb4-abd3b516829b",
   "metadata": {},
   "source": [
    "### Using numPy "
   ]
  },
  {
   "cell_type": "code",
   "execution_count": 8,
   "id": "f86bffc2-9643-411f-94ca-320734c007a6",
   "metadata": {},
   "outputs": [
    {
     "name": "stdout",
     "output_type": "stream",
     "text": [
      "[[ 4  7  9]\n",
      " [ 4 11 15]\n",
      " [ 8 12 15]]\n"
     ]
    }
   ],
   "source": [
    "import numpy as np\n",
    "X = np.array(X)\n",
    "y = np.array(y)\n",
    "\n",
    "print(X+y)"
   ]
  },
  {
   "cell_type": "code",
   "execution_count": null,
   "id": "25217836-48b0-4fd3-a47e-1ee4f63d8f32",
   "metadata": {},
   "outputs": [],
   "source": []
  },
  {
   "cell_type": "code",
   "execution_count": null,
   "id": "c49a8de7-53b0-45c5-a95b-3f0dfaa5d057",
   "metadata": {},
   "outputs": [],
   "source": []
  },
  {
   "cell_type": "code",
   "execution_count": null,
   "id": "d74db488-79b3-4c37-93a4-4a66d348c156",
   "metadata": {},
   "outputs": [],
   "source": []
  },
  {
   "cell_type": "code",
   "execution_count": null,
   "id": "806e45e6-1ac3-40a9-b9b6-9c16113adc59",
   "metadata": {},
   "outputs": [],
   "source": []
  },
  {
   "cell_type": "code",
   "execution_count": null,
   "id": "41db9aea-4766-4d08-9fc1-afe4c6796613",
   "metadata": {},
   "outputs": [],
   "source": []
  },
  {
   "cell_type": "code",
   "execution_count": null,
   "id": "a89431d8-d21f-43e8-8f92-ec54b2bfe2e1",
   "metadata": {},
   "outputs": [],
   "source": []
  },
  {
   "cell_type": "code",
   "execution_count": null,
   "id": "b841cc31-5899-488d-b5f9-d630f11ec821",
   "metadata": {},
   "outputs": [],
   "source": []
  },
  {
   "cell_type": "code",
   "execution_count": null,
   "id": "981b28f0-cf91-4fc0-a644-eb1201e1d896",
   "metadata": {},
   "outputs": [],
   "source": []
  },
  {
   "cell_type": "code",
   "execution_count": null,
   "id": "cfb8c93f-fd0e-4c41-a4b6-b34ec3ed67ba",
   "metadata": {},
   "outputs": [],
   "source": []
  },
  {
   "cell_type": "code",
   "execution_count": null,
   "id": "1d49cace-d70d-40cf-8ac5-a9606ab93f8b",
   "metadata": {},
   "outputs": [],
   "source": []
  },
  {
   "cell_type": "code",
   "execution_count": null,
   "id": "2176f14e-5766-49e8-9017-e413d3d33d66",
   "metadata": {},
   "outputs": [],
   "source": []
  },
  {
   "cell_type": "code",
   "execution_count": null,
   "id": "0f3afc71-4c3a-46b1-bb25-5c407ba08e30",
   "metadata": {},
   "outputs": [],
   "source": []
  },
  {
   "cell_type": "code",
   "execution_count": null,
   "id": "abcf91a0-30c6-4774-9340-d9773487f6ea",
   "metadata": {},
   "outputs": [],
   "source": []
  },
  {
   "cell_type": "code",
   "execution_count": null,
   "id": "a6a0aaf0-f0a2-4b05-b2a9-b19359a5a0bc",
   "metadata": {},
   "outputs": [],
   "source": []
  },
  {
   "cell_type": "code",
   "execution_count": null,
   "id": "9bf38fb5-a671-48ac-a5e3-0f06a06901db",
   "metadata": {},
   "outputs": [],
   "source": []
  },
  {
   "cell_type": "code",
   "execution_count": null,
   "id": "7b64ae9e-ef9f-4e5c-a7fa-a6c434bf3eb8",
   "metadata": {},
   "outputs": [],
   "source": []
  },
  {
   "cell_type": "code",
   "execution_count": null,
   "id": "2fa6edb0-2bd2-4385-84c8-6ce7a8f677e1",
   "metadata": {},
   "outputs": [],
   "source": []
  },
  {
   "cell_type": "code",
   "execution_count": null,
   "id": "9484f2e6-c3ad-4784-9681-b2e3940ad9f6",
   "metadata": {},
   "outputs": [],
   "source": []
  },
  {
   "cell_type": "code",
   "execution_count": null,
   "id": "014c552b-7544-4e51-83ba-c9deba7136bd",
   "metadata": {},
   "outputs": [],
   "source": []
  },
  {
   "cell_type": "code",
   "execution_count": null,
   "id": "e9d7927b-ab76-4f62-be47-a3c5147e929f",
   "metadata": {},
   "outputs": [],
   "source": []
  },
  {
   "cell_type": "code",
   "execution_count": null,
   "id": "92b06858-1af1-43da-affb-7d02d70f8a62",
   "metadata": {},
   "outputs": [],
   "source": []
  },
  {
   "cell_type": "code",
   "execution_count": null,
   "id": "bdd9b24e-a4a4-4490-97aa-1d6cba194132",
   "metadata": {},
   "outputs": [],
   "source": []
  },
  {
   "cell_type": "code",
   "execution_count": null,
   "id": "eedffd7b-9212-448a-b020-69a6159c7ccf",
   "metadata": {},
   "outputs": [],
   "source": []
  },
  {
   "cell_type": "code",
   "execution_count": null,
   "id": "88279ecd-247c-487d-8297-ada43810a9fe",
   "metadata": {},
   "outputs": [],
   "source": []
  },
  {
   "cell_type": "code",
   "execution_count": null,
   "id": "18d38944-b430-493b-b395-1386b94f2f29",
   "metadata": {},
   "outputs": [],
   "source": []
  },
  {
   "cell_type": "code",
   "execution_count": null,
   "id": "91e3972a-2ac2-4a8e-8fd4-e18bf0a80a2f",
   "metadata": {},
   "outputs": [],
   "source": []
  },
  {
   "cell_type": "code",
   "execution_count": null,
   "id": "773efda2-ba93-4599-bdd3-aa199281061d",
   "metadata": {},
   "outputs": [],
   "source": []
  },
  {
   "cell_type": "code",
   "execution_count": null,
   "id": "591661a3-7696-4ca6-8cc0-e63652eb6414",
   "metadata": {},
   "outputs": [],
   "source": []
  },
  {
   "cell_type": "code",
   "execution_count": null,
   "id": "44796f97-a380-416e-9616-8a4fbc6e64a3",
   "metadata": {},
   "outputs": [],
   "source": []
  },
  {
   "cell_type": "code",
   "execution_count": null,
   "id": "7d33752e-c264-4903-98d2-9608a9a06992",
   "metadata": {},
   "outputs": [],
   "source": []
  },
  {
   "cell_type": "code",
   "execution_count": null,
   "id": "0a1df157-beb3-40a7-b677-910fcca59857",
   "metadata": {},
   "outputs": [],
   "source": []
  },
  {
   "cell_type": "code",
   "execution_count": null,
   "id": "b09c0fda-cd35-446c-aafc-b0f19c8b3530",
   "metadata": {},
   "outputs": [],
   "source": []
  },
  {
   "cell_type": "code",
   "execution_count": null,
   "id": "120a6277-bf6c-443d-b38c-a378aca8e30b",
   "metadata": {},
   "outputs": [],
   "source": []
  },
  {
   "cell_type": "code",
   "execution_count": null,
   "id": "3fd4dfac-cb9f-4960-b184-cb41da2619c0",
   "metadata": {},
   "outputs": [],
   "source": []
  },
  {
   "cell_type": "code",
   "execution_count": null,
   "id": "aa2f645c-fa69-4258-9df7-d9cdaf5a1be2",
   "metadata": {},
   "outputs": [],
   "source": []
  },
  {
   "cell_type": "code",
   "execution_count": null,
   "id": "e56a3153-4d75-4a0e-95fd-7e06f73158c2",
   "metadata": {},
   "outputs": [],
   "source": []
  },
  {
   "cell_type": "code",
   "execution_count": null,
   "id": "d206f396-2b08-4f3d-9aea-1ec7fa69113e",
   "metadata": {},
   "outputs": [],
   "source": []
  }
 ],
 "metadata": {
  "kernelspec": {
   "display_name": "Python 3 (ipykernel)",
   "language": "python",
   "name": "python3"
  },
  "language_info": {
   "codemirror_mode": {
    "name": "ipython",
    "version": 3
   },
   "file_extension": ".py",
   "mimetype": "text/x-python",
   "name": "python",
   "nbconvert_exporter": "python",
   "pygments_lexer": "ipython3",
   "version": "3.12.4"
  }
 },
 "nbformat": 4,
 "nbformat_minor": 5
}
