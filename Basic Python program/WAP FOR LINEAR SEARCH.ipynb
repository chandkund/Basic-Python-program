{
 "cells": [
  {
   "cell_type": "code",
   "execution_count": null,
   "id": "838b9d97-1c50-4578-ad9c-d95c3998a4e2",
   "metadata": {},
   "outputs": [],
   "source": []
  },
  {
   "cell_type": "code",
   "execution_count": 1,
   "id": "32dc4dc6-bfaf-4f17-9eb9-bd684d6022dc",
   "metadata": {},
   "outputs": [
    {
     "name": "stdout",
     "output_type": "stream",
     "text": [
      "Element found at index: 3\n"
     ]
    }
   ],
   "source": [
    "def linear_search(arr, target):\n",
    "    for index in range(len(arr)):\n",
    "        if arr[index] == target:\n",
    "            return index\n",
    "    return -1\n",
    "\n",
    "arr = [10, 23, 45, 70, 11, 15]\n",
    "target = 70\n",
    "\n",
    "# Function call\n",
    "result = linear_search(arr, target)\n",
    "\n",
    "if result != -1:\n",
    "    print(f\"Element found at index: {result}\")\n",
    "else:\n",
    "    print(\"Element not found in the array\")"
   ]
  },
  {
   "cell_type": "code",
   "execution_count": null,
   "id": "de3f4ca5-d4ca-4ea9-90b3-ee9abc9efaf5",
   "metadata": {},
   "outputs": [],
   "source": []
  },
  {
   "cell_type": "code",
   "execution_count": 2,
   "id": "217814f7-a69a-421a-aefa-affebd912f39",
   "metadata": {},
   "outputs": [
    {
     "name": "stdout",
     "output_type": "stream",
     "text": [
      "Element 30 found at index 2.\n"
     ]
    }
   ],
   "source": [
    "def linear_search_recursive(arr, target, index=0):\n",
    "    if index == len(arr):\n",
    "        return -1  \n",
    "    \n",
    "    if arr[index] == target:\n",
    "        return index  \n",
    "    return linear_search_recursive(arr, target, index + 1)\n",
    "\n",
    "arr = [10, 20, 30, 40, 50]\n",
    "target = 30\n",
    "\n",
    "result = linear_search_recursive(arr, target)\n",
    "\n",
    "if result != -1:\n",
    "    print(f\"Element {target} found at index {result}.\")\n",
    "else:\n",
    "    print(f\"Element {target} not found in the list.\")"
   ]
  },
  {
   "cell_type": "code",
   "execution_count": null,
   "id": "2a42d268-7547-4a19-8107-93c145cb5061",
   "metadata": {},
   "outputs": [],
   "source": []
  }
 ],
 "metadata": {
  "kernelspec": {
   "display_name": "Python 3 (ipykernel)",
   "language": "python",
   "name": "python3"
  },
  "language_info": {
   "codemirror_mode": {
    "name": "ipython",
    "version": 3
   },
   "file_extension": ".py",
   "mimetype": "text/x-python",
   "name": "python",
   "nbconvert_exporter": "python",
   "pygments_lexer": "ipython3",
   "version": "3.12.4"
  }
 },
 "nbformat": 4,
 "nbformat_minor": 5
}
