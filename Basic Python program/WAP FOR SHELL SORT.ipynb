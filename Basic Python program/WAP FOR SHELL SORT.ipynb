{
 "cells": [
  {
   "cell_type": "code",
   "execution_count": null,
   "id": "66d5787a-ee07-4605-afed-e2cafb2ba4ee",
   "metadata": {},
   "outputs": [],
   "source": []
  },
  {
   "cell_type": "code",
   "execution_count": 6,
   "id": "2dfd1133-451a-4a47-8aaf-411a9f2fd165",
   "metadata": {},
   "outputs": [
    {
     "name": "stdout",
     "output_type": "stream",
     "text": [
      "Array before sorting:\n",
      "12\n",
      "34\n",
      "54\n",
      "2\n",
      "3\n",
      "\n",
      "Array after sorting:\n",
      "2\n",
      "3\n",
      "12\n",
      "34\n",
      "54\n"
     ]
    }
   ],
   "source": [
    "\n",
    "def shellSort(arr):\n",
    "\n",
    "\tn = len(arr)\n",
    "\tgap = n//2\n",
    "\n",
    "\n",
    "\twhile gap > 0:\n",
    "\n",
    "\t\tfor i in range(gap,n):\n",
    "\n",
    "\n",
    "\t\t\ttemp = arr[i]\n",
    "\n",
    "\t\t\tj = i\n",
    "\t\t\twhile j >= gap and arr[j-gap] >temp:\n",
    "\t\t\t\tarr[j] = arr[j-gap]\n",
    "\t\t\t\tj -= gap\n",
    "\n",
    "\t\t\tarr[j] = temp\n",
    "\t\tgap //= 2\n",
    "\n",
    "\n",
    "arr = [ 12, 34, 54, 2, 3]\n",
    "\n",
    "n = len(arr)\n",
    "print (\"Array before sorting:\")\n",
    "for i in range(n):\n",
    "\tprint(arr[i])\n",
    "\n",
    "shellSort(arr)\n",
    "\n",
    "print (\"\\nArray after sorting:\")\n",
    "for i in range(n):\n",
    "\tprint(arr[i])\n"
   ]
  },
  {
   "cell_type": "code",
   "execution_count": null,
   "id": "51e9067e-bb03-4ed0-a125-e172362cf4bb",
   "metadata": {},
   "outputs": [],
   "source": []
  }
 ],
 "metadata": {
  "kernelspec": {
   "display_name": "Python 3 (ipykernel)",
   "language": "python",
   "name": "python3"
  },
  "language_info": {
   "codemirror_mode": {
    "name": "ipython",
    "version": 3
   },
   "file_extension": ".py",
   "mimetype": "text/x-python",
   "name": "python",
   "nbconvert_exporter": "python",
   "pygments_lexer": "ipython3",
   "version": "3.12.4"
  }
 },
 "nbformat": 4,
 "nbformat_minor": 5
}
