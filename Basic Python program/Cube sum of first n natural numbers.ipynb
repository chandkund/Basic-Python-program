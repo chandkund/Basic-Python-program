{
 "cells": [
  {
   "cell_type": "markdown",
   "id": "2091a51a-941e-4c80-8a95-c1c595757163",
   "metadata": {},
   "source": [
    "### Cube sum of first n natural numbers"
   ]
  },
  {
   "cell_type": "markdown",
   "id": "21cf4471-2c23-4bde-b942-744b3c7f37fe",
   "metadata": {},
   "source": [
    "### Using loop"
   ]
  },
  {
   "cell_type": "code",
   "execution_count": 2,
   "id": "2a1b9212-1def-4660-9474-f16f5c5083d3",
   "metadata": {},
   "outputs": [
    {
     "name": "stdin",
     "output_type": "stream",
     "text": [
      "Enter the number 7\n"
     ]
    },
    {
     "name": "stdout",
     "output_type": "stream",
     "text": [
      "784\n"
     ]
    }
   ],
   "source": [
    "n = int(input(\"Enter the number\"))\n",
    "sum = 0\n",
    "for i in range(1,n+1):\n",
    "    sum  = sum+i*i*i\n",
    "print(sum)\n",
    "    "
   ]
  },
  {
   "cell_type": "markdown",
   "id": "d876c038-d044-4386-b75b-ecae9f3ac5a5",
   "metadata": {},
   "source": [
    "### Using pow() function"
   ]
  },
  {
   "cell_type": "code",
   "execution_count": 3,
   "id": "fac5ab72-3fa9-4bf7-be80-535d391e119e",
   "metadata": {},
   "outputs": [
    {
     "name": "stdin",
     "output_type": "stream",
     "text": [
      "Enter the number 6\n"
     ]
    },
    {
     "name": "stdout",
     "output_type": "stream",
     "text": [
      "441\n"
     ]
    }
   ],
   "source": [
    "\n",
    "n = int(input(\"Enter the number\"))\n",
    "\n",
    "def sum_of_first_natural_number(n):\n",
    "    s = 0\n",
    "    for i in range(1,n+1):\n",
    "        s = s+pow(i,3)\n",
    "    return s\n",
    "        \n",
    "print(sum_of_first_natural_number(n))        \n",
    "    "
   ]
  },
  {
   "cell_type": "markdown",
   "id": "421f9d33-2082-4efb-9b69-fccc8bf8ddba",
   "metadata": {},
   "source": [
    "### Using List"
   ]
  },
  {
   "cell_type": "code",
   "execution_count": 4,
   "id": "da9a75fd-d0c1-42d4-b166-e61afd845108",
   "metadata": {},
   "outputs": [
    {
     "name": "stdin",
     "output_type": "stream",
     "text": [
      "Enter the number 4\n"
     ]
    },
    {
     "name": "stdout",
     "output_type": "stream",
     "text": [
      "100\n"
     ]
    }
   ],
   "source": [
    "n = int(input(\"Enter the number\"))\n",
    "\n",
    "l = [i*i*i for i in range(1,n+1)]\n",
    "\n",
    "sum = 0\n",
    "for i in range(len(l)):\n",
    "    sum = sum+l[i]\n",
    "print(sum)"
   ]
  },
  {
   "cell_type": "markdown",
   "id": "dcb54b42-c04e-46c9-a70c-382b41b2cf03",
   "metadata": {},
   "source": [
    "### Using operator "
   ]
  },
  {
   "cell_type": "code",
   "execution_count": 5,
   "id": "53d5613a-c5e6-4fa9-8ad6-28ebad4242e4",
   "metadata": {},
   "outputs": [
    {
     "name": "stdin",
     "output_type": "stream",
     "text": [
      "Enter the number 4\n"
     ]
    },
    {
     "name": "stdout",
     "output_type": "stream",
     "text": [
      "100\n"
     ]
    }
   ],
   "source": [
    "n = int(input(\"Enter the number\"))\n",
    "sum = 0\n",
    "for i in range(1,n+1):\n",
    "    sum  = sum+i**3\n",
    "print(sum)  "
   ]
  },
  {
   "cell_type": "markdown",
   "id": "7ffa042f-8d1a-440f-befe-b1711f5e241c",
   "metadata": {},
   "source": [
    "### Using formula (n ( n + 1 ) / 2) ^ 2."
   ]
  },
  {
   "cell_type": "code",
   "execution_count": 7,
   "id": "cbaeb497-8155-4580-9a2f-7ec396bd4f5f",
   "metadata": {},
   "outputs": [
    {
     "name": "stdin",
     "output_type": "stream",
     "text": [
      "Enter the number 7\n"
     ]
    },
    {
     "name": "stdout",
     "output_type": "stream",
     "text": [
      "784\n"
     ]
    }
   ],
   "source": [
    "def sum_of_first_natural_number(n):\n",
    "    x = (n * (n + 1) / 2)\n",
    "    return (int)(x * x)    \n",
    "n = int(input(\"Enter the number\"))\n",
    "\n",
    "print(sum_of_first_natural_number(n))"
   ]
  },
  {
   "cell_type": "code",
   "execution_count": null,
   "id": "1216c471-0792-409b-8f1f-b6ba417664c2",
   "metadata": {},
   "outputs": [],
   "source": []
  },
  {
   "cell_type": "code",
   "execution_count": null,
   "id": "6c84e695-5b94-4083-82cc-a432dd68b5d5",
   "metadata": {},
   "outputs": [],
   "source": []
  },
  {
   "cell_type": "code",
   "execution_count": null,
   "id": "b51ca0f2-a2a6-4016-aa53-800a4d378f11",
   "metadata": {},
   "outputs": [],
   "source": []
  },
  {
   "cell_type": "code",
   "execution_count": null,
   "id": "015c4893-dd9c-4914-ad40-3ac47a3ee259",
   "metadata": {},
   "outputs": [],
   "source": []
  },
  {
   "cell_type": "code",
   "execution_count": null,
   "id": "af69c0e3-f711-4f8b-a3b0-15a7bf7fb835",
   "metadata": {},
   "outputs": [],
   "source": []
  },
  {
   "cell_type": "code",
   "execution_count": null,
   "id": "8bfb5e94-ddd4-490f-951e-aa11f6df7a87",
   "metadata": {},
   "outputs": [],
   "source": []
  }
 ],
 "metadata": {
  "kernelspec": {
   "display_name": "Python 3 (ipykernel)",
   "language": "python",
   "name": "python3"
  },
  "language_info": {
   "codemirror_mode": {
    "name": "ipython",
    "version": 3
   },
   "file_extension": ".py",
   "mimetype": "text/x-python",
   "name": "python",
   "nbconvert_exporter": "python",
   "pygments_lexer": "ipython3",
   "version": "3.12.4"
  }
 },
 "nbformat": 4,
 "nbformat_minor": 5
}
