{
 "cells": [
  {
   "cell_type": "code",
   "execution_count": null,
   "id": "dd4d282e-c9db-4830-8955-4c4250ec0fc4",
   "metadata": {},
   "outputs": [],
   "source": []
  },
  {
   "cell_type": "code",
   "execution_count": 9,
   "id": "179844a4-9a79-421b-829c-02103010fe55",
   "metadata": {},
   "outputs": [
    {
     "name": "stdout",
     "output_type": "stream",
     "text": [
      "Chanan\n"
     ]
    }
   ],
   "source": [
    "s = \"Chandan\"\n",
    "s = s.replace(\"d\", \"\")\n",
    "print(s)"
   ]
  },
  {
   "cell_type": "code",
   "execution_count": null,
   "id": "c44a0a5f-51a3-4ec2-9f05-067fb045ba6d",
   "metadata": {},
   "outputs": [],
   "source": []
  },
  {
   "cell_type": "code",
   "execution_count": 11,
   "id": "f51488aa-2d8c-44da-9c22-b09f7a6fdff2",
   "metadata": {},
   "outputs": [
    {
     "name": "stdout",
     "output_type": "stream",
     "text": [
      "chndn kumr\n"
     ]
    }
   ],
   "source": [
    "s = \"chandan kumar\"\n",
    "\n",
    "s1 = \"\"\n",
    "\n",
    "for c in s:\n",
    "    if c != \"a\":\n",
    "        s1 = s1+c\n",
    "\n",
    "print(s1)"
   ]
  },
  {
   "cell_type": "code",
   "execution_count": null,
   "id": "928e1b33-aae6-435e-9a96-77081974c239",
   "metadata": {},
   "outputs": [],
   "source": []
  },
  {
   "cell_type": "code",
   "execution_count": 13,
   "id": "e52ec9e6-a2d5-46a8-aa7c-142ac1a42b67",
   "metadata": {},
   "outputs": [
    {
     "name": "stdout",
     "output_type": "stream",
     "text": [
      "Chandan kuma\n"
     ]
    }
   ],
   "source": [
    "s = \"Chandan kumar\"\n",
    "\n",
    "s = \"\".join([c for c in s if c != \"r\"])\n",
    "print(s)"
   ]
  },
  {
   "cell_type": "code",
   "execution_count": null,
   "id": "6d125ac2-047a-4212-a812-2f090a5dea3d",
   "metadata": {},
   "outputs": [],
   "source": []
  },
  {
   "cell_type": "code",
   "execution_count": null,
   "id": "87818d7f-b8d0-4eb9-b05b-6c97e4e38295",
   "metadata": {},
   "outputs": [],
   "source": []
  },
  {
   "cell_type": "code",
   "execution_count": null,
   "id": "e4efa9b2-9869-42f8-a987-354de413a309",
   "metadata": {},
   "outputs": [],
   "source": []
  },
  {
   "cell_type": "code",
   "execution_count": null,
   "id": "0d522492-8768-4d63-9e6d-0bdcd6d95290",
   "metadata": {},
   "outputs": [],
   "source": []
  },
  {
   "cell_type": "code",
   "execution_count": null,
   "id": "0d52c245-e5d7-44ac-bb38-bdde1b07964c",
   "metadata": {},
   "outputs": [],
   "source": []
  },
  {
   "cell_type": "code",
   "execution_count": null,
   "id": "8cc0a857-cdc3-431c-9c36-375f10371ee3",
   "metadata": {},
   "outputs": [],
   "source": []
  },
  {
   "cell_type": "code",
   "execution_count": null,
   "id": "19b56976-b50a-4e89-8621-a969334ff279",
   "metadata": {},
   "outputs": [],
   "source": []
  },
  {
   "cell_type": "code",
   "execution_count": null,
   "id": "57ce7e55-4aaf-4370-8041-57ed707b6757",
   "metadata": {},
   "outputs": [],
   "source": []
  },
  {
   "cell_type": "code",
   "execution_count": null,
   "id": "c10c089b-ca57-4f0d-ba21-def3a02989c9",
   "metadata": {},
   "outputs": [],
   "source": []
  },
  {
   "cell_type": "code",
   "execution_count": null,
   "id": "618fbbeb-2dec-4ed5-8dcb-dde4ba614b41",
   "metadata": {},
   "outputs": [],
   "source": []
  },
  {
   "cell_type": "code",
   "execution_count": null,
   "id": "1e2b4517-94e4-4b56-bf94-a20e99196f47",
   "metadata": {},
   "outputs": [],
   "source": []
  },
  {
   "cell_type": "code",
   "execution_count": null,
   "id": "250c53d9-8011-46bf-a59e-fd1e2bf142ef",
   "metadata": {},
   "outputs": [],
   "source": []
  },
  {
   "cell_type": "code",
   "execution_count": null,
   "id": "eb60510a-7cde-4a98-a6e9-cd45e9433c69",
   "metadata": {},
   "outputs": [],
   "source": []
  },
  {
   "cell_type": "code",
   "execution_count": null,
   "id": "bacc5b5e-13b1-4222-b9e7-86bf099589d9",
   "metadata": {},
   "outputs": [],
   "source": []
  },
  {
   "cell_type": "code",
   "execution_count": null,
   "id": "0704ec9a-b231-464a-9efc-2eb5bba88802",
   "metadata": {},
   "outputs": [],
   "source": []
  }
 ],
 "metadata": {
  "kernelspec": {
   "display_name": "Python 3 (ipykernel)",
   "language": "python",
   "name": "python3"
  },
  "language_info": {
   "codemirror_mode": {
    "name": "ipython",
    "version": 3
   },
   "file_extension": ".py",
   "mimetype": "text/x-python",
   "name": "python",
   "nbconvert_exporter": "python",
   "pygments_lexer": "ipython3",
   "version": "3.12.4"
  }
 },
 "nbformat": 4,
 "nbformat_minor": 5
}
