{
 "cells": [
  {
   "cell_type": "code",
   "execution_count": null,
   "id": "a6b3b2f3-0283-4c94-9e7b-0b11e23f076b",
   "metadata": {},
   "outputs": [],
   "source": [
    "Find compound interest\n",
    "Check Armstrong Number\n",
    "Find area of a circle\n",
    "Print all Prime numbers in an Interval\n",
    "Check whether a number is Prime or not\n",
    "N-th Fibonacci number\n",
    "Check if a given number is Fibonacci number?\n",
    "Nth multiple of a number in Fibonacci Series\n",
    "Print ASCII Value of a character\n",
    "Sum of squares of first n natural numbers\n",
    "Cube sum of first n natural numbers"
   ]
  }
 ],
 "metadata": {
  "kernelspec": {
   "display_name": "Python 3 (ipykernel)",
   "language": "python",
   "name": "python3"
  },
  "language_info": {
   "codemirror_mode": {
    "name": "ipython",
    "version": 3
   },
   "file_extension": ".py",
   "mimetype": "text/x-python",
   "name": "python",
   "nbconvert_exporter": "python",
   "pygments_lexer": "ipython3",
   "version": "3.12.4"
  }
 },
 "nbformat": 4,
 "nbformat_minor": 5
}
