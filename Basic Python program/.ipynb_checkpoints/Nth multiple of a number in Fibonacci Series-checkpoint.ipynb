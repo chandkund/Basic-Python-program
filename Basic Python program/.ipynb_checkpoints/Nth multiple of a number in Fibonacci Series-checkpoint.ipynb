{
 "cells": [
  {
   "cell_type": "code",
   "execution_count": 40,
   "id": "792b011a-7826-43e1-a954-018095985967",
   "metadata": {},
   "outputs": [
    {
     "name": "stdout",
     "output_type": "stream",
     "text": [
      "30\n"
     ]
    }
   ],
   "source": [
    "def fibonacci_series(n,p):\n",
    "    a = 0\n",
    "    b = 1\n",
    "    i = 2\n",
    "    while i!=0:\n",
    "        c = a+b\n",
    "        a= b\n",
    "        b = c\n",
    "        \n",
    "        if b%p == 0:\n",
    "            return n*i\n",
    "            \n",
    "        i = i+1\n",
    "    return\n",
    "print(fibonacci_series(5,4))"
   ]
  },
  {
   "cell_type": "code",
   "execution_count": 29,
   "id": "d5df35c4-a7b8-41ae-b4a2-bf00b06c2e63",
   "metadata": {},
   "outputs": [
    {
     "name": "stdout",
     "output_type": "stream",
     "text": [
      "Position of n'th multiple of k inFibonacci Series is 30\n"
     ]
    }
   ],
   "source": [
    "# Python Program to find position of n\\'th multiple\n",
    "# of a number k in Fibonacci Series\n",
    "\n",
    "def findPosition(k, n):\n",
    "    f1 = 0\n",
    "    f2 = 1\n",
    "    i =2; \n",
    "    while i!=0:\n",
    "        f3 = f1 + f2;\n",
    "        f1 = f2;\n",
    "        f2 = f3;\n",
    "\n",
    "        if f2%k == 0:\n",
    "            return n*i\n",
    "\n",
    "        i+=1\n",
    "        \n",
    "    return \n",
    "\n",
    "\n",
    "# Multiple no.\n",
    "n = 5;\n",
    "# Number of whose multiple we are finding\n",
    "k = 4;\n",
    "\n",
    "print(\"Position of n\\'th multiple of k in\"\n",
    "                \"Fibonacci Series is\", findPosition(k,n));\n",
    "\n",
    "# Code contributed by Mohit Gupta_OMG\n"
   ]
  },
  {
   "cell_type": "code",
   "execution_count": null,
   "id": "84bd5cce-c7b4-491e-95ab-761a38e3822b",
   "metadata": {},
   "outputs": [],
   "source": []
  }
 ],
 "metadata": {
  "kernelspec": {
   "display_name": "Python 3 (ipykernel)",
   "language": "python",
   "name": "python3"
  },
  "language_info": {
   "codemirror_mode": {
    "name": "ipython",
    "version": 3
   },
   "file_extension": ".py",
   "mimetype": "text/x-python",
   "name": "python",
   "nbconvert_exporter": "python",
   "pygments_lexer": "ipython3",
   "version": "3.12.4"
  }
 },
 "nbformat": 4,
 "nbformat_minor": 5
}
