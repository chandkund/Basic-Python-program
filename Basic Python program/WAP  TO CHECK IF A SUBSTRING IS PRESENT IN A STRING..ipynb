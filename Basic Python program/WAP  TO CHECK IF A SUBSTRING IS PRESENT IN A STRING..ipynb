{
 "cells": [
  {
   "cell_type": "code",
   "execution_count": null,
   "id": "963b78e1-e905-4ff7-bad2-97659c822374",
   "metadata": {},
   "outputs": [],
   "source": []
  },
  {
   "cell_type": "code",
   "execution_count": 2,
   "id": "38ad2c06-4d85-4e54-82a8-863c30cfcfea",
   "metadata": {},
   "outputs": [
    {
     "name": "stdout",
     "output_type": "stream",
     "text": [
      "Hello, present in string\n"
     ]
    }
   ],
   "source": [
    "s = \"hello world chandan kumar \"\n",
    "\n",
    "if \"hello\" in s:\n",
    "    print(\"Hello, present in string\")"
   ]
  },
  {
   "cell_type": "code",
   "execution_count": null,
   "id": "cb52eed5-f95a-4738-bdc5-1fec1913425a",
   "metadata": {},
   "outputs": [],
   "source": []
  },
  {
   "cell_type": "code",
   "execution_count": 10,
   "id": "6ff20372-ef94-4d92-bdd2-f8005d4dd256",
   "metadata": {},
   "outputs": [
    {
     "name": "stdout",
     "output_type": "stream",
     "text": [
      "hello, present in string\n"
     ]
    }
   ],
   "source": [
    "s1 = s.split()\n",
    "if 'hello' in s1:\n",
    "    print(\"hello, present in string\")\n",
    "else:\n",
    "    print(\"hello, not present in string\")"
   ]
  },
  {
   "cell_type": "code",
   "execution_count": null,
   "id": "14b8b0eb-245b-4c00-917c-495b70c68910",
   "metadata": {},
   "outputs": [],
   "source": []
  },
  {
   "cell_type": "code",
   "execution_count": 16,
   "id": "08402abf-fde0-43a7-83a5-66c77e2741f3",
   "metadata": {},
   "outputs": [
    {
     "name": "stdout",
     "output_type": "stream",
     "text": [
      "['yes']\n"
     ]
    }
   ],
   "source": [
    "s = 'hello world chandan kumar'\n",
    "s = ['yes' if 'hello' in s else 'no']\n",
    "\n",
    "print(s)"
   ]
  },
  {
   "cell_type": "code",
   "execution_count": null,
   "id": "2851e756-957c-4ed0-ac67-bf286be29540",
   "metadata": {},
   "outputs": [],
   "source": []
  },
  {
   "cell_type": "code",
   "execution_count": 17,
   "id": "f3181160-3b28-4de1-a2ca-ba8cdaee35bf",
   "metadata": {},
   "outputs": [
    {
     "name": "stdout",
     "output_type": "stream",
     "text": [
      "Yes! it is present in the string\n"
     ]
    }
   ],
   "source": [
    "import re\n",
    "\n",
    "MyString1 = \"chandan kumar hello world\"\n",
    "\n",
    "if re.search(\"kumar\", MyString1):\n",
    "    print(\"Yes! it is present in the string\")\n",
    "else:\n",
    "    print(\"No! it is not present\")\n"
   ]
  },
  {
   "cell_type": "code",
   "execution_count": null,
   "id": "79b00ba9-8c32-4751-9fd6-17aacafbfc1e",
   "metadata": {},
   "outputs": [],
   "source": []
  },
  {
   "cell_type": "code",
   "execution_count": null,
   "id": "fd020311-92c5-4fbf-86a5-7326c525049c",
   "metadata": {},
   "outputs": [],
   "source": []
  },
  {
   "cell_type": "code",
   "execution_count": null,
   "id": "26650aa3-a806-4a0f-b870-d52fa61f5af4",
   "metadata": {},
   "outputs": [],
   "source": []
  },
  {
   "cell_type": "code",
   "execution_count": null,
   "id": "78a16ebd-f5b6-400f-bbb8-eedf2aafcfc4",
   "metadata": {},
   "outputs": [],
   "source": []
  },
  {
   "cell_type": "code",
   "execution_count": null,
   "id": "afa634f3-53e5-404d-a851-305023fd5ae2",
   "metadata": {},
   "outputs": [],
   "source": []
  },
  {
   "cell_type": "code",
   "execution_count": null,
   "id": "425e3831-c3ed-438c-b38a-2ef75685632b",
   "metadata": {},
   "outputs": [],
   "source": []
  }
 ],
 "metadata": {
  "kernelspec": {
   "display_name": "Python 3 (ipykernel)",
   "language": "python",
   "name": "python3"
  },
  "language_info": {
   "codemirror_mode": {
    "name": "ipython",
    "version": 3
   },
   "file_extension": ".py",
   "mimetype": "text/x-python",
   "name": "python",
   "nbconvert_exporter": "python",
   "pygments_lexer": "ipython3",
   "version": "3.12.4"
  }
 },
 "nbformat": 4,
 "nbformat_minor": 5
}
