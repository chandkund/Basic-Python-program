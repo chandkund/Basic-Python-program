{
 "cells": [
  {
   "cell_type": "code",
   "execution_count": 1,
   "id": "20fe31d1-c150-4a17-a692-c04fdf8cf841",
   "metadata": {},
   "outputs": [
    {
     "name": "stdout",
     "output_type": "stream",
     "text": [
      "Following is a Topological Sort of the given graph\n",
      "[5, 4, 2, 3, 1, 0]\n"
     ]
    }
   ],
   "source": [
    "from collections import defaultdict\n",
    "\n",
    "class Graph:\n",
    "\tdef __init__(self,vertices):\n",
    "\t\tself.graph = defaultdict(list)\n",
    "\t\tself.V = vertices \n",
    "\n",
    "\tdef addEdge(self,u,v):\n",
    "\t\tself.graph[u].append(v)\n",
    "\n",
    "\tdef topologicalSortUtil(self,v,visited,stack):\n",
    "\n",
    "\t\tvisited[v] = True\n",
    "\n",
    "\t\tfor i in self.graph[v]:\n",
    "\t\t\tif visited[i] == False:\n",
    "\t\t\t\tself.topologicalSortUtil(i,visited,stack)\n",
    "\n",
    "\t\tstack.insert(0,v)\n",
    "\n",
    "\n",
    "\tdef topologicalSort(self):\n",
    "\t\tvisited = [False]*self.V\n",
    "\t\tstack =[]\n",
    "\n",
    "\n",
    "\t\tfor i in range(self.V):\n",
    "\t\t\tif visited[i] == False:\n",
    "\t\t\t\tself.topologicalSortUtil(i,visited,stack)\n",
    "\n",
    "\t\tprint (stack)\n",
    "\n",
    "g= Graph(6)\n",
    "g.addEdge(5, 2);\n",
    "g.addEdge(5, 0);\n",
    "g.addEdge(4, 0);\n",
    "g.addEdge(4, 1);\n",
    "g.addEdge(2, 3);\n",
    "g.addEdge(3, 1);\n",
    "\n",
    "print (\"Following is a Topological Sort of the given graph\")\n",
    "g.topologicalSort()\n"
   ]
  },
  {
   "cell_type": "code",
   "execution_count": null,
   "id": "a5c059b3-8c7b-4004-a697-5382f7e3f24f",
   "metadata": {},
   "outputs": [],
   "source": []
  }
 ],
 "metadata": {
  "kernelspec": {
   "display_name": "Python 3 (ipykernel)",
   "language": "python",
   "name": "python3"
  },
  "language_info": {
   "codemirror_mode": {
    "name": "ipython",
    "version": 3
   },
   "file_extension": ".py",
   "mimetype": "text/x-python",
   "name": "python",
   "nbconvert_exporter": "python",
   "pygments_lexer": "ipython3",
   "version": "3.12.4"
  }
 },
 "nbformat": 4,
 "nbformat_minor": 5
}
