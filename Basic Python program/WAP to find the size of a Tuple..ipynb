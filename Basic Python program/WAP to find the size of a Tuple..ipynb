{
 "cells": [
  {
   "cell_type": "code",
   "execution_count": null,
   "id": "70ba9779-b9d8-4bea-8041-d5b88cb96a2d",
   "metadata": {},
   "outputs": [],
   "source": []
  },
  {
   "cell_type": "code",
   "execution_count": 2,
   "id": "e99505fb-fb91-4bd6-a8e6-35259dccdbcf",
   "metadata": {},
   "outputs": [
    {
     "name": "stdout",
     "output_type": "stream",
     "text": [
      "Size of Tuple1: 160\n",
      "Size of Tuple2: 96\n",
      "Size of Tuple3: 72\n"
     ]
    }
   ],
   "source": [
    "import sys\n",
    "\n",
    "Tuple1 = (1,45,\"cha\", 1,3,5,6,1,2,4,5, \"Kum\", 2, \"Dan\", 3)\n",
    "Tuple2 = (\"chand1\", \"kum1\", \"chan\", \"231\", \"12\", \"vbd\",34)\n",
    "\n",
    "# print the sizes of sample Tuples\n",
    "print(\"Size of Tuple1: \" + str(sys.getsizeof(Tuple1)) )\n",
    "print(\"Size of Tuple2: \" + str(sys.getsizeof(Tuple2)) )\n",
    "print(\"Size of Tuple3: \" + str(sys.getsizeof(Tuple3)) )\n"
   ]
  },
  {
   "cell_type": "code",
   "execution_count": null,
   "id": "ced8ecd1-0619-4ee4-8455-e876ff05ce5d",
   "metadata": {},
   "outputs": [],
   "source": []
  },
  {
   "cell_type": "code",
   "execution_count": null,
   "id": "0a22f807-3fd8-4073-b21b-cef2581ffbf5",
   "metadata": {},
   "outputs": [],
   "source": []
  }
 ],
 "metadata": {
  "kernelspec": {
   "display_name": "Python 3 (ipykernel)",
   "language": "python",
   "name": "python3"
  },
  "language_info": {
   "codemirror_mode": {
    "name": "ipython",
    "version": 3
   },
   "file_extension": ".py",
   "mimetype": "text/x-python",
   "name": "python",
   "nbconvert_exporter": "python",
   "pygments_lexer": "ipython3",
   "version": "3.12.4"
  }
 },
 "nbformat": 4,
 "nbformat_minor": 5
}
